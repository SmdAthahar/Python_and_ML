{
 "cells": [
  {
   "cell_type": "markdown",
   "id": "e7a1aba3-fd9a-4acb-a6b7-3333de957ee8",
   "metadata": {},
   "source": [
    "### Python programming documentation"
   ]
  },
  {
   "cell_type": "code",
   "execution_count": null,
   "id": "df243af2-c8aa-4ee6-9867-3c4f9e0d0158",
   "metadata": {},
   "outputs": [],
   "source": []
  },
  {
   "cell_type": "markdown",
   "id": "3f18c2d3-ee44-4824-9840-a51cdce714ea",
   "metadata": {},
   "source": [
    "#### 1 Definition:\n",
    "\n",
    "Python is a high-level, interpreted programming language that allows people to write computer programs. Python is famous for its clear, simple syntax, making it suitable for beginners and professionals to build websites, analyze data, make games, control robots, and more."
   ]
  },
  {
   "cell_type": "markdown",
   "id": "4b0e1aa9-4db3-4e4c-94e7-035619ad35c2",
   "metadata": {},
   "source": [
    "### 2 Variables and data types\n",
    "\n",
    "A variable is a named place in memory where you can store data like numbers, text, or lists. Python figures out what type of data you are storing (int, float, str, etc.) just from the value you assign it "
   ]
  },
  {
   "cell_type": "markdown",
   "id": "3fd6f879-28d8-42d4-9364-cc77d82ed1f7",
   "metadata": {},
   "source": [
    "Variables help you remember and reuse information, like saving a user's name or a calculation result."
   ]
  },
  {
   "cell_type": "code",
   "execution_count": 13,
   "id": "9853c60c-5dc5-4947-b981-e241584ce4f6",
   "metadata": {},
   "outputs": [],
   "source": [
    "x = 10\n",
    "print(x) "
   ]
  },
  {
   "cell_type": "code",
   "execution_count": null,
   "id": "cbacbc27-b3a3-4726-af09-64b4979876de",
   "metadata": {},
   "outputs": [],
   "source": [
    "y = 3.14\n",
    "print(y)"
   ]
  },
  {
   "cell_type": "code",
   "execution_count": null,
   "id": "6ab02892-c698-4713-bf0c-36668b09cc56",
   "metadata": {},
   "outputs": [],
   "source": [
    "name = \"Athahar\"\n",
    "print(name)"
   ]
  },
  {
   "cell_type": "code",
   "execution_count": null,
   "id": "65533eae-78ca-4c66-9d2c-61424206e18f",
   "metadata": {},
   "outputs": [],
   "source": [
    "fruits = [\"apple\", \"banana\", \"cherry\"]\n",
    "print(fruits)"
   ]
  },
  {
   "cell_type": "code",
   "execution_count": null,
   "id": "a7e25f87-03de-4d81-ab57-4ed4570cc22c",
   "metadata": {},
   "outputs": [],
   "source": [
    "coords = (10, 20)\n",
    "print(coords)"
   ]
  },
  {
   "cell_type": "code",
   "execution_count": null,
   "id": "d6d5f3de-f9b9-4684-9791-956f0bed1941",
   "metadata": {},
   "outputs": [],
   "source": [
    "person = {\"name\": \"Sam\", \"age\": 25}\n",
    "print(person)"
   ]
  },
  {
   "cell_type": "code",
   "execution_count": null,
   "id": "9a8b69a7-c2cd-412b-b97d-511c6f32d8e1",
   "metadata": {},
   "outputs": [],
   "source": [
    "unique = {1, 2, 3}\n",
    "print(unique)"
   ]
  },
  {
   "cell_type": "code",
   "execution_count": null,
   "id": "d80aa302-1130-43e3-a36a-118a591c21b7",
   "metadata": {},
   "outputs": [],
   "source": [
    "none_value = None\n",
    "print(none_value)"
   ]
  },
  {
   "cell_type": "code",
   "execution_count": null,
   "id": "ecc3d44f-7c4f-4c06-954d-c9c63dc46d33",
   "metadata": {},
   "outputs": [],
   "source": [
    "age = 18              \n",
    "price = 19.99         \n",
    "username = \"Athahar\"    \n",
    "is_student = True "
   ]
  },
  {
   "cell_type": "markdown",
   "id": "d9dcaf64-0f29-445f-9f56-b50bfc425d10",
   "metadata": {},
   "source": [
    "we can check what dataype each variable is storing using type function"
   ]
  },
  {
   "cell_type": "code",
   "execution_count": 16,
   "id": "6d61a884-c3ad-421b-af89-96dc9be5d9b5",
   "metadata": {},
   "outputs": [
    {
     "data": {
      "text/plain": [
       "int"
      ]
     },
     "execution_count": 16,
     "metadata": {},
     "output_type": "execute_result"
    }
   ],
   "source": [
    "type(age)"
   ]
  },
  {
   "cell_type": "code",
   "execution_count": 18,
   "id": "9cc39bdd-3398-4502-9a11-8eac90930a57",
   "metadata": {},
   "outputs": [
    {
     "data": {
      "text/plain": [
       "float"
      ]
     },
     "execution_count": 18,
     "metadata": {},
     "output_type": "execute_result"
    }
   ],
   "source": [
    "type(price)"
   ]
  },
  {
   "cell_type": "code",
   "execution_count": 20,
   "id": "f455019c-e388-4d91-b719-54bdcc49a1fb",
   "metadata": {},
   "outputs": [
    {
     "data": {
      "text/plain": [
       "str"
      ]
     },
     "execution_count": 20,
     "metadata": {},
     "output_type": "execute_result"
    }
   ],
   "source": [
    "type(username)"
   ]
  },
  {
   "cell_type": "code",
   "execution_count": 22,
   "id": "7792c375-66b2-4cff-b8c9-be52485acb3f",
   "metadata": {},
   "outputs": [
    {
     "data": {
      "text/plain": [
       "bool"
      ]
     },
     "execution_count": 22,
     "metadata": {},
     "output_type": "execute_result"
    }
   ],
   "source": [
    "type(is_student)"
   ]
  },
  {
   "cell_type": "markdown",
   "id": "f0700a61-15bf-466c-987c-11703e24781f",
   "metadata": {},
   "source": [
    "### 3 Arithmetic Operators"
   ]
  },
  {
   "cell_type": "markdown",
   "id": "c18c0410-8ee9-4a48-bccf-e15776c171c6",
   "metadata": {},
   "source": [
    "### Definition:\n",
    "\n",
    "Arithmetic operators are symbols that tell Python to perform math calculations like addition, subtraction, multiplication, division, and more.\n",
    "\n",
    "They help you do calculations in your program, like adding numbers or finding results."
   ]
  },
  {
   "cell_type": "code",
   "execution_count": null,
   "id": "b9620eb8-8448-4069-be50-49b012fb8237",
   "metadata": {},
   "outputs": [],
   "source": [
    "a = 5 + 3\n",
    "print(a)"
   ]
  },
  {
   "cell_type": "code",
   "execution_count": null,
   "id": "bc679d28-519e-415b-be68-f3a74e695813",
   "metadata": {},
   "outputs": [],
   "source": [
    "b = 10 - 4\n",
    "print(b)"
   ]
  },
  {
   "cell_type": "code",
   "execution_count": null,
   "id": "d42922cc-5f16-4469-b404-9cdaa2984551",
   "metadata": {},
   "outputs": [],
   "source": [
    "c = 6 * 7\n",
    "print(c)"
   ]
  },
  {
   "cell_type": "code",
   "execution_count": null,
   "id": "d215045a-29f1-4ba8-91bd-266fa05470d2",
   "metadata": {},
   "outputs": [],
   "source": [
    "d = 20 / 5\n",
    "print(d)"
   ]
  },
  {
   "cell_type": "code",
   "execution_count": null,
   "id": "ad5d93c3-2649-402a-ae0b-4e2390ebd87e",
   "metadata": {},
   "outputs": [],
   "source": [
    "e = 10 % 3\n",
    "print(e)"
   ]
  },
  {
   "cell_type": "code",
   "execution_count": null,
   "id": "d8b4dfe1-0bd8-4e27-a1fb-4bafd3933149",
   "metadata": {},
   "outputs": [],
   "source": [
    "f = 2 ** 5\n",
    "print(f)"
   ]
  },
  {
   "cell_type": "code",
   "execution_count": null,
   "id": "9c97c82e-d34d-4ae3-9059-7c72b99a22d6",
   "metadata": {},
   "outputs": [],
   "source": [
    "g = 15 // 2\n",
    "print(g)"
   ]
  },
  {
   "cell_type": "code",
   "execution_count": null,
   "id": "e23c8e5a-4f87-407f-a71e-ec780d58c6a3",
   "metadata": {},
   "outputs": [],
   "source": [
    "h = (5 + 3) * 2\n",
    "print(h)"
   ]
  },
  {
   "cell_type": "code",
   "execution_count": null,
   "id": "7c79490c-38e0-4e03-a223-039755936e24",
   "metadata": {},
   "outputs": [],
   "source": [
    "i = (8 - 2) / 3\n",
    "print(i)"
   ]
  },
  {
   "cell_type": "code",
   "execution_count": null,
   "id": "39954573-a598-4ebf-a742-8f5df28da8b0",
   "metadata": {},
   "outputs": [],
   "source": [
    "j = (12 + 6) // 3\n",
    "print(j)"
   ]
  },
  {
   "cell_type": "code",
   "execution_count": 27,
   "id": "d08f328b-69b3-4968-8d79-b27974dd54b6",
   "metadata": {},
   "outputs": [],
   "source": [
    "a = 10 + 5\n",
    "b = 10 - 3\n",
    "c = 4 * 3\n",
    "d = 20 / 4\n",
    "e = 7 % 3\n",
    "f = 2 ** 3"
   ]
  },
  {
   "cell_type": "code",
   "execution_count": 60,
   "id": "127d3e91-2c8b-4a34-9eba-0d60b5d5baec",
   "metadata": {},
   "outputs": [
    {
     "name": "stdout",
     "output_type": "stream",
     "text": [
      "Addition: a = 10 + 5 = 15\n",
      "Subtraction: b = 10 - 3 = 7\n",
      "Multiplication: c = 4 * 3 = 12\n",
      "Division: d = 20 / 4 = 5.0\n",
      "Modulus (remainder): e = 7 % 3 = 1\n",
      "Exponentiation: f = 2 ** 3 = 8\n"
     ]
    }
   ],
   "source": [
    "print(\"Addition: a = 10 + 5 =\", a)\n",
    "print(\"Subtraction: b = 10 - 3 =\", b)\n",
    "print(\"Multiplication: c = 4 * 3 =\", c)\n",
    "print(\"Division: d = 20 / 4 =\", d)\n",
    "print(\"Modulus (remainder): e = 7 % 3 =\", e)\n",
    "print(\"Exponentiation: f = 2 ** 3 =\", f)\n"
   ]
  },
  {
   "cell_type": "markdown",
   "id": "99c5faa9-118d-4667-bfa9-be3d63b803c9",
   "metadata": {},
   "source": [
    "### 4 Comparison Operators"
   ]
  },
  {
   "cell_type": "markdown",
   "id": "4a0157fb-8b91-4d8f-b984-e0695c45748f",
   "metadata": {},
   "source": [
    "### Definition: \n",
    "\n",
    "Comparison operators (like ==, <, >, !=, <=, >=) are used to compare two values. Python checks the relationship and returns True or False.\n",
    "\n",
    "To decide what happens next in your code based on conditions."
   ]
  },
  {
   "cell_type": "code",
   "execution_count": 2,
   "id": "737f09d0-1c4a-4517-9a47-a845d0d2ac3d",
   "metadata": {},
   "outputs": [
    {
     "name": "stdout",
     "output_type": "stream",
     "text": [
      "True\n"
     ]
    }
   ],
   "source": [
    "print(5 == 5)"
   ]
  },
  {
   "cell_type": "code",
   "execution_count": 4,
   "id": "e2b9ad7f-e7cf-460d-aae7-7b0b71461d4e",
   "metadata": {},
   "outputs": [
    {
     "name": "stdout",
     "output_type": "stream",
     "text": [
      "True\n"
     ]
    }
   ],
   "source": [
    "print(7 != 3)"
   ]
  },
  {
   "cell_type": "code",
   "execution_count": 6,
   "id": "826a5a54-44d9-4f88-8870-7532c642a619",
   "metadata": {},
   "outputs": [
    {
     "name": "stdout",
     "output_type": "stream",
     "text": [
      "True\n"
     ]
    }
   ],
   "source": [
    "print(10 > 8)"
   ]
  },
  {
   "cell_type": "code",
   "execution_count": null,
   "id": "091248a4-3542-4ac3-b61d-3d640cda6e02",
   "metadata": {},
   "outputs": [],
   "source": [
    "print(4 < 6)"
   ]
  },
  {
   "cell_type": "code",
   "execution_count": null,
   "id": "33cc9298-4126-449f-9926-86069ac4ccc7",
   "metadata": {},
   "outputs": [],
   "source": [
    "print(9 >= 9)"
   ]
  },
  {
   "cell_type": "code",
   "execution_count": null,
   "id": "f55bd77f-bea3-43d0-a1f9-f7fe73972ff1",
   "metadata": {},
   "outputs": [],
   "source": [
    "print(12 <= 15)"
   ]
  },
  {
   "cell_type": "code",
   "execution_count": null,
   "id": "513b4cef-edd8-4d72-b29d-bf752577f90d",
   "metadata": {},
   "outputs": [],
   "source": [
    "print(\"abc\" == \"abc\")"
   ]
  },
  {
   "cell_type": "code",
   "execution_count": null,
   "id": "183933cd-a486-4d44-a49b-7ade555ce370",
   "metadata": {},
   "outputs": [],
   "source": [
    "print(len(\"hi\") == 2)"
   ]
  },
  {
   "cell_type": "code",
   "execution_count": null,
   "id": "45206c3c-7df9-43cd-99b2-c1330b62a469",
   "metadata": {},
   "outputs": [],
   "source": [
    "print(3.5 > 2.1)"
   ]
  },
  {
   "cell_type": "code",
   "execution_count": 35,
   "id": "2d09bbcf-224e-482f-8f31-b89136647b4b",
   "metadata": {},
   "outputs": [
    {
     "name": "stdout",
     "output_type": "stream",
     "text": [
      "True\n",
      "False\n"
     ]
    }
   ],
   "source": [
    "age = 16\n",
    "print(age < 18)  \n",
    "print(age == 18)  "
   ]
  },
  {
   "cell_type": "markdown",
   "id": "c0abfdb2-e581-4b6a-b1fd-6059f144d11b",
   "metadata": {},
   "source": [
    "### 5. Logical Operators "
   ]
  },
  {
   "cell_type": "markdown",
   "id": "4aa7d958-ef10-450d-b266-71036f9ecb7d",
   "metadata": {},
   "source": [
    "### Definition:\n",
    "\n",
    "Logical operators (and, or, not) connect multiple conditions to check if multiple things are true or false.\n",
    "\n",
    "It is used for more complex decisions, like checking several things at once."
   ]
  },
  {
   "cell_type": "code",
   "execution_count": null,
   "id": "09fbeac5-eac7-4a80-abc9-c321e8261935",
   "metadata": {},
   "outputs": [],
   "source": [
    "print(5 > 3 and 10 > 2)"
   ]
  },
  {
   "cell_type": "code",
   "execution_count": null,
   "id": "9b93aa89-b2b3-403d-91e2-ead23fe4f139",
   "metadata": {},
   "outputs": [],
   "source": [
    "print(4 < 2 or 9 > 1)"
   ]
  },
  {
   "cell_type": "code",
   "execution_count": null,
   "id": "342674e5-e9d0-4205-a447-67d4386d77b9",
   "metadata": {},
   "outputs": [],
   "source": [
    "print(not (5 == 5))"
   ]
  },
  {
   "cell_type": "code",
   "execution_count": null,
   "id": "9c742970-1fe8-4035-9fd5-0ccc59688f33",
   "metadata": {},
   "outputs": [],
   "source": [
    "print((7 > 4) and (3 < 10))"
   ]
  },
  {
   "cell_type": "code",
   "execution_count": null,
   "id": "b4183739-aab4-4233-8f7e-44d5fa3205f5",
   "metadata": {},
   "outputs": [],
   "source": [
    "print((2 == 3) or (10 > 4))"
   ]
  },
  {
   "cell_type": "code",
   "execution_count": 42,
   "id": "36fa4600-2c34-4b57-942b-c047c2051c23",
   "metadata": {},
   "outputs": [
    {
     "name": "stdout",
     "output_type": "stream",
     "text": [
      "True\n",
      "False\n",
      "False\n"
     ]
    }
   ],
   "source": [
    "x = 10\n",
    "y = 20\n",
    "print(x > 5 and y < 30)  \n",
    "print(x < 5 or y < 15)    \n",
    "print(not x == 10)       "
   ]
  },
  {
   "cell_type": "markdown",
   "id": "4da09880-733b-4b25-8179-e672550047df",
   "metadata": {},
   "source": [
    "### 6 Conditional Statements\n",
    "\n",
    "### Definition:\n",
    "\n",
    "Conditional statements help programs make choices. Python mainly uses three: if, elif, and else. Here's each part explained in detail:"
   ]
  },
  {
   "cell_type": "markdown",
   "id": "b7cc1ae5-9676-4325-a036-17f258622d53",
   "metadata": {},
   "source": [
    "### a) if Statement:\n",
    "\n",
    "### Definition:\n",
    "An if statement checks if a condition is True. If it is, the code inside the if block runs. If not, the block is skipped. It's the basic tool for decision-making in Python.\n",
    "\n",
    "It is used have the code do something only if a certain test or condition is met."
   ]
  },
  {
   "cell_type": "code",
   "execution_count": null,
   "id": "c3cb89b8-15d9-4d6c-baf6-8e097102ca9d",
   "metadata": {},
   "outputs": [],
   "source": [
    "x = 10\n",
    "if x > 5:\n",
    "    print(\"x is greater than 5\")"
   ]
  },
  {
   "cell_type": "markdown",
   "id": "0c4771fa-8c2b-46a2-b680-77e02f8afcc5",
   "metadata": {},
   "source": [
    "### b) The elif Statement\n",
    "\n",
    "### Definition:\n",
    "\n",
    "elif is short for \"else if\". You use it to check a second (or third, or fourth, etc.) condition if the previous if condition(s) were False. It's a way to chain multiple choices together.\n",
    "\n",
    "It is used when you have several possible options and you want to check them one by one."
   ]
  },
  {
   "cell_type": "code",
   "execution_count": 50,
   "id": "6fe20657-34df-4a64-a3c3-81c0592a4ff8",
   "metadata": {},
   "outputs": [
    {
     "name": "stdout",
     "output_type": "stream",
     "text": [
      "Grade: B\n"
     ]
    }
   ],
   "source": [
    "marks = 80\n",
    "if marks >= 90:\n",
    "    print(\"Grade: A\")\n",
    "elif marks >= 75:\n",
    "    print(\"Grade: B\")\n",
    "elif marks >= 60:\n",
    "    print(\"Grade: C\")"
   ]
  },
  {
   "cell_type": "markdown",
   "id": "458e94c5-7c55-492c-b08d-0c2b8b03cbb5",
   "metadata": {},
   "source": [
    "### c) The else Statement\n",
    "\n",
    "### Definition\n",
    "\n",
    "The else statement catches everything else that wasn't caught by the if or elif checks. You do not write a condition after else—it just runs if all the earlier tests fail.\n",
    "\n",
    "It gives a default action or message when none of the above conditions are true."
   ]
  },
  {
   "cell_type": "code",
   "execution_count": 10,
   "id": "7154ce1c-b44e-4bb6-b49c-9e9313004fc5",
   "metadata": {},
   "outputs": [
    {
     "name": "stdout",
     "output_type": "stream",
     "text": [
      "Negative\n"
     ]
    }
   ],
   "source": [
    "num = -5\n",
    "if num >= 0:\n",
    "    print(\"Non-negative\")\n",
    "else:\n",
    "    print(\"Negative\")"
   ]
  },
  {
   "cell_type": "code",
   "execution_count": 12,
   "id": "1f992f9e-82c5-4227-a659-8d06313f9b8b",
   "metadata": {},
   "outputs": [
    {
     "name": "stdout",
     "output_type": "stream",
     "text": [
      "y equals 2\n"
     ]
    }
   ],
   "source": [
    "y = 2\n",
    "if y == 2:\n",
    "    print(\"y equals 2\")\n",
    "else:\n",
    "    print(\"y does not equal 2\")"
   ]
  },
  {
   "cell_type": "code",
   "execution_count": 14,
   "id": "1ca0d173-36b3-4cd2-8a65-25dc44e6168c",
   "metadata": {},
   "outputs": [
    {
     "name": "stdout",
     "output_type": "stream",
     "text": [
      "Exact\n"
     ]
    }
   ],
   "source": [
    "z = 12\n",
    "if z < 5:\n",
    "    print(\"Small\")\n",
    "elif z == 12:\n",
    "    print(\"Exact\")\n",
    "else:\n",
    "    print(\"Large\")"
   ]
  },
  {
   "cell_type": "code",
   "execution_count": 16,
   "id": "435d6a88-3eac-46ce-ae19-08ae634b3229",
   "metadata": {},
   "outputs": [
    {
     "name": "stdout",
     "output_type": "stream",
     "text": [
      "B\n"
     ]
    }
   ],
   "source": [
    "marks = 85\n",
    "if marks >= 90:\n",
    "    print(\"A\")\n",
    "elif marks >= 80:\n",
    "    print(\"B\")\n",
    "else:\n",
    "    print(\"C\")"
   ]
  },
  {
   "cell_type": "code",
   "execution_count": 18,
   "id": "19d8de70-f545-4ef9-828d-51541db650ba",
   "metadata": {},
   "outputs": [
    {
     "name": "stdout",
     "output_type": "stream",
     "text": [
      "Keep trying!\n"
     ]
    }
   ],
   "source": [
    "score = 40\n",
    "if score >= 90:\n",
    "    print(\"Excellent!\")\n",
    "elif score >= 70:\n",
    "    print(\"Good!\")\n",
    "else:\n",
    "    print(\"Keep trying!\")  "
   ]
  },
  {
   "cell_type": "code",
   "execution_count": 58,
   "id": "f3b298f0-313d-46ef-b7e8-04d63ea3b5e3",
   "metadata": {},
   "outputs": [
    {
     "name": "stdout",
     "output_type": "stream",
     "text": [
      "It's cool outside\n"
     ]
    }
   ],
   "source": [
    "temp = 15\n",
    "if temp >= 30:\n",
    "    print(\"It's hot outside\")\n",
    "elif temp >= 20:\n",
    "    print(\"It's warm outside\")\n",
    "elif temp >= 10:\n",
    "    print(\"It's cool outside\")\n",
    "else:\n",
    "    print(\"It's cold outside\")\n"
   ]
  },
  {
   "cell_type": "markdown",
   "id": "8ebe8b15-3849-491e-b54e-d464ab0af03b",
   "metadata": {},
   "source": [
    "### 7. Loops\n",
    "\n",
    "Loops repeat actions, saving you from writing the same code over and over. There are two main types: for and while.\n",
    "\n",
    "### For Loop:\n",
    "\n",
    "A for loop repeats code for each item in a list or range, one by one.\n",
    "\n",
    "It is used to process every item in a group, or repeat an action a known number of times."
   ]
  },
  {
   "cell_type": "code",
   "execution_count": 20,
   "id": "bfaae2e7-f482-44ff-af80-a1518cf80b1f",
   "metadata": {},
   "outputs": [
    {
     "name": "stdout",
     "output_type": "stream",
     "text": [
      "0\n",
      "1\n",
      "2\n",
      "3\n",
      "4\n"
     ]
    }
   ],
   "source": [
    "for i in range(5):\n",
    "    print(i)"
   ]
  },
  {
   "cell_type": "code",
   "execution_count": 22,
   "id": "5c637bb6-b5c6-41bc-b2fb-56b9983c82a0",
   "metadata": {},
   "outputs": [
    {
     "name": "stdout",
     "output_type": "stream",
     "text": [
      "h\n",
      "e\n",
      "l\n",
      "l\n",
      "o\n"
     ]
    }
   ],
   "source": [
    "for char in \"hello\":\n",
    "    print(char)"
   ]
  },
  {
   "cell_type": "code",
   "execution_count": 24,
   "id": "225a2cb8-49ab-4be6-9f27-caed9994b62b",
   "metadata": {},
   "outputs": [
    {
     "name": "stdout",
     "output_type": "stream",
     "text": [
      "4\n",
      "8\n",
      "12\n"
     ]
    }
   ],
   "source": [
    "for num in [2, 4, 6]:\n",
    "    print(num * 2)"
   ]
  },
  {
   "cell_type": "code",
   "execution_count": 26,
   "id": "d753e72c-df1e-4d76-9442-75437b016468",
   "metadata": {},
   "outputs": [
    {
     "name": "stdout",
     "output_type": "stream",
     "text": [
      "1\n",
      "3\n",
      "5\n"
     ]
    }
   ],
   "source": [
    "for i in range(1, 6, 2):\n",
    "    print(i)"
   ]
  },
  {
   "cell_type": "code",
   "execution_count": 28,
   "id": "51932190-93f5-4eb3-b901-274c39da0405",
   "metadata": {},
   "outputs": [
    {
     "name": "stdout",
     "output_type": "stream",
     "text": [
      "Athahar\n",
      "Athahar\n",
      "Athahar\n"
     ]
    }
   ],
   "source": [
    "for x in range(3):\n",
    "    print(\"Athahar\")"
   ]
  },
  {
   "cell_type": "code",
   "execution_count": null,
   "id": "6ffcc673-7dd3-42d8-a3b6-29fecd7d0478",
   "metadata": {},
   "outputs": [],
   "source": [
    "for i in range(10, 15):\n",
    "    print(i)"
   ]
  },
  {
   "cell_type": "code",
   "execution_count": null,
   "id": "caf30603-878e-4da1-b9b0-c168f9273d7f",
   "metadata": {},
   "outputs": [],
   "source": [
    "for index, val in enumerate([\"a\", \"b\", \"c\"]):\n",
    "    print(index, val)"
   ]
  },
  {
   "cell_type": "code",
   "execution_count": null,
   "id": "fc021574-89e1-4335-9365-927063515d2a",
   "metadata": {},
   "outputs": [],
   "source": [
    "for n in (1, 3, 5, 7):\n",
    "    print(n**2)"
   ]
  },
  {
   "cell_type": "code",
   "execution_count": null,
   "id": "fdcc1023-246a-4092-bea6-5d553f36d127",
   "metadata": {},
   "outputs": [],
   "source": [
    "for line in [\"one\", \"two\"]:\n",
    "    print(line.upper())"
   ]
  },
  {
   "cell_type": "markdown",
   "id": "c57d31eb-c39b-4949-b704-bd341b137af6",
   "metadata": {},
   "source": [
    "### While Loop\n",
    "\n",
    "### Definition:\n",
    "A while loop repeats code as long as a condition remains True.\n",
    "\n",
    "It is used to keep doing something until a certain point (possibly unknown in advance)."
   ]
  },
  {
   "cell_type": "code",
   "execution_count": 30,
   "id": "c7729191-a07d-4eb8-a776-bf5d05dd618a",
   "metadata": {},
   "outputs": [
    {
     "name": "stdout",
     "output_type": "stream",
     "text": [
      "0\n",
      "1\n",
      "2\n"
     ]
    }
   ],
   "source": [
    "i = 0\n",
    "while i < 3:\n",
    "    print(i)\n",
    "    i += 1"
   ]
  },
  {
   "cell_type": "code",
   "execution_count": 32,
   "id": "48387cde-a8f8-4670-9264-cdb8de1a8747",
   "metadata": {},
   "outputs": [
    {
     "name": "stdout",
     "output_type": "stream",
     "text": [
      "5\n",
      "4\n",
      "3\n",
      "2\n",
      "1\n"
     ]
    }
   ],
   "source": [
    "count = 5\n",
    "while count > 0:\n",
    "    print(count)\n",
    "    count -= 1"
   ]
  },
  {
   "cell_type": "code",
   "execution_count": 34,
   "id": "87489501-7ca4-4418-95e9-4aab90e2562f",
   "metadata": {},
   "outputs": [
    {
     "name": "stdout",
     "output_type": "stream",
     "text": [
      "2\n",
      "4\n",
      "6\n"
     ]
    }
   ],
   "source": [
    "x = 1\n",
    "while x <= 3:\n",
    "    print(x * 2)\n",
    "    x += 1"
   ]
  },
  {
   "cell_type": "code",
   "execution_count": 36,
   "id": "989fe71b-ee90-4722-b1df-52e81eda11a8",
   "metadata": {},
   "outputs": [
    {
     "name": "stdout",
     "output_type": "stream",
     "text": [
      "10\n",
      "9\n",
      "8\n",
      "7\n"
     ]
    }
   ],
   "source": [
    "num = 10\n",
    "while num >= 7:\n",
    "    print(num)\n",
    "    num -= 1"
   ]
  },
  {
   "cell_type": "code",
   "execution_count": 38,
   "id": "fb5d3592-fec4-4dd2-ac03-3a28b9089a9d",
   "metadata": {},
   "outputs": [
    {
     "name": "stdout",
     "output_type": "stream",
     "text": [
      "0\n",
      "3\n",
      "6\n",
      "9\n"
     ]
    }
   ],
   "source": [
    "val = 0\n",
    "while val < 10:\n",
    "    print(val)\n",
    "    val += 3"
   ]
  },
  {
   "cell_type": "code",
   "execution_count": 40,
   "id": "c836f6fe-b988-4a9e-9599-436e19f37262",
   "metadata": {},
   "outputs": [
    {
     "name": "stdout",
     "output_type": "stream",
     "text": [
      "1\n",
      "4\n",
      "9\n",
      "16\n"
     ]
    }
   ],
   "source": [
    "n = 1\n",
    "while n < 5:\n",
    "    print(n**2)\n",
    "    n += 1"
   ]
  },
  {
   "cell_type": "code",
   "execution_count": 50,
   "id": "e46d9e3e-bdd0-4b85-84ff-734f75e2cccd",
   "metadata": {},
   "outputs": [
    {
     "name": "stdout",
     "output_type": "stream",
     "text": [
      "Data\n",
      "Data\n",
      "Data\n",
      "Data\n"
     ]
    }
   ],
   "source": [
    "j = 0\n",
    "while j < 4:\n",
    "    print(\"Data\")\n",
    "    j += 1"
   ]
  },
  {
   "cell_type": "code",
   "execution_count": 48,
   "id": "e1416dd5-6b34-4f49-9a9a-05a111def021",
   "metadata": {},
   "outputs": [
    {
     "name": "stdout",
     "output_type": "stream",
     "text": [
      "a\n",
      "t\n",
      "h\n",
      "a\n",
      "h\n",
      "a\n",
      "r\n"
     ]
    }
   ],
   "source": [
    "word = \"athahar\"\n",
    "i = 0\n",
    "while i < len(word):\n",
    "    print(word[i])\n",
    "    i += 1"
   ]
  },
  {
   "cell_type": "code",
   "execution_count": 46,
   "id": "be622fda-5b7e-4a01-9f2b-6a1f3a98e3e7",
   "metadata": {},
   "outputs": [
    {
     "name": "stdout",
     "output_type": "stream",
     "text": [
      "50\n",
      "40\n",
      "30\n",
      "20\n",
      "10\n"
     ]
    }
   ],
   "source": [
    "p = 5\n",
    "while p >= 1:\n",
    "    print(p * 10)\n",
    "    p -= 1"
   ]
  },
  {
   "cell_type": "code",
   "execution_count": null,
   "id": "1e437283-c12b-47e5-8039-ebc7e1d35d48",
   "metadata": {},
   "outputs": [],
   "source": [
    "c = 0\n",
    "while c != 3:\n",
    "    print(c)\n",
    "    c += 1\n"
   ]
  },
  {
   "cell_type": "markdown",
   "id": "32b3a485-d5a5-4ef8-a09b-00f5510308e2",
   "metadata": {},
   "source": [
    "### 8 Object-Oriented Programming (OOPS)"
   ]
  },
  {
   "cell_type": "markdown",
   "id": "111727d9-2192-4b2d-b367-3b6c8c64e9f3",
   "metadata": {},
   "source": [
    "### Definition:\n",
    "\n",
    "Object-Oriented Programming (OOP) is a style of writing programs that brings code closer to the real world. In OOP, you design programs around objects—collections of data (attributes) and actions (methods) bundled together. This approach makes it easier to handle complex problems by grouping similar things and their behaviors."
   ]
  },
  {
   "cell_type": "markdown",
   "id": "a2430925-cc24-4580-9997-36eb6e4ca414",
   "metadata": {},
   "source": [
    "OOP helps organize code, make programs easier to understand, and reuse code efficiently in large systems."
   ]
  },
  {
   "cell_type": "markdown",
   "id": "6bd2f91b-74b0-4d6e-953d-e561ffd96683",
   "metadata": {},
   "source": [
    "### a) Classes and Objects"
   ]
  },
  {
   "cell_type": "markdown",
   "id": "9468c09b-3fa7-4994-82a1-9831432f2e96",
   "metadata": {},
   "source": [
    "### Class\n",
    "\n",
    "#### Definition:\n",
    "\n",
    "A class is like a blueprint or plan for making objects. It defines what data (attributes) and what actions (methods) objects of that kind will have."
   ]
  },
  {
   "cell_type": "markdown",
   "id": "444cd0e4-4a98-4e24-b770-8ddf3d0863f1",
   "metadata": {},
   "source": [
    "To design various \"types\" of objects in your code, such as a Car, a Student, or a Book."
   ]
  },
  {
   "cell_type": "markdown",
   "id": "3713f3e2-8884-4428-bbbe-9fdb4c841863",
   "metadata": {},
   "source": [
    "### Object\n",
    "\n",
    "#### Definition:\n",
    "An object is one specific thing created from a class blueprint. It can hold its own unique data.\n",
    "\n",
    "Objects bring classes to life, turning a plan into something you can use and change."
   ]
  },
  {
   "cell_type": "markdown",
   "id": "a88475b1-e969-4156-a084-3df7c56399d3",
   "metadata": {},
   "source": [
    "### Attributes and Method\n",
    "\n",
    "### Attributes Definition:\n",
    "Attributes are pieces of information stored in an object—like a person's name or age.\n",
    "\n",
    "To store important information about each object"
   ]
  },
  {
   "cell_type": "code",
   "execution_count": 52,
   "id": "df23930f-a1c9-4db4-825d-b116890fb4fd",
   "metadata": {},
   "outputs": [
    {
     "name": "stdout",
     "output_type": "stream",
     "text": [
      "Woof\n"
     ]
    }
   ],
   "source": [
    "class Dog:\n",
    "    def bark(self):\n",
    "        print(\"Woof\")\n",
    "\n",
    "d = Dog()\n",
    "d.bark()"
   ]
  },
  {
   "cell_type": "code",
   "execution_count": 54,
   "id": "af2a0c6c-fb22-44d4-ab5e-44fdd2610f71",
   "metadata": {},
   "outputs": [
    {
     "name": "stdout",
     "output_type": "stream",
     "text": [
      "Meow\n"
     ]
    }
   ],
   "source": [
    "class Cat:\n",
    "    def meow(self):\n",
    "        print(\"Meow\")\n",
    "\n",
    "c = Cat()\n",
    "c.meow()"
   ]
  },
  {
   "cell_type": "code",
   "execution_count": null,
   "id": "a83d971a-e01f-49b7-98fd-7f44fcff7e42",
   "metadata": {},
   "outputs": [],
   "source": [
    "class Person:\n",
    "    def __init__(self, name):\n",
    "        self.name = name\n",
    "\n",
    "p = Person(\"Athahar\")\n",
    "print(p.name)\n"
   ]
  },
  {
   "cell_type": "code",
   "execution_count": 56,
   "id": "8e4a8a0b-da27-47f6-9aab-12b9c971f41c",
   "metadata": {},
   "outputs": [
    {
     "name": "stdout",
     "output_type": "stream",
     "text": [
      "Python documentation\n"
     ]
    }
   ],
   "source": [
    "class Book:\n",
    "    def __init__(self, title):\n",
    "        self.title = title\n",
    "\n",
    "b = Book(\"Python documentation\")\n",
    "print(b.title)"
   ]
  },
  {
   "cell_type": "code",
   "execution_count": 58,
   "id": "695505a8-e5dd-4c56-8f64-1f6fdc38a0fa",
   "metadata": {},
   "outputs": [
    {
     "name": "stdout",
     "output_type": "stream",
     "text": [
      "BMW\n"
     ]
    }
   ],
   "source": [
    "class Car:\n",
    "    def __init__(self, brand):\n",
    "        self.brand = brand\n",
    "\n",
    "car = Car(\"BMW\")\n",
    "print(car.brand)"
   ]
  },
  {
   "cell_type": "code",
   "execution_count": 60,
   "id": "5613728d-f757-43f2-a3c5-f39b0f1dbb6b",
   "metadata": {},
   "outputs": [
    {
     "name": "stdout",
     "output_type": "stream",
     "text": [
      "101\n"
     ]
    }
   ],
   "source": [
    "class Student:\n",
    "    def __init__(self, roll):\n",
    "        self.roll = roll\n",
    "\n",
    "s = Student(101)\n",
    "print(s.roll)"
   ]
  },
  {
   "cell_type": "code",
   "execution_count": 62,
   "id": "39c75945-4f4f-478a-8258-a4cc4d162834",
   "metadata": {},
   "outputs": [
    {
     "name": "stdout",
     "output_type": "stream",
     "text": [
      "Laptop On\n"
     ]
    }
   ],
   "source": [
    "class Laptop:\n",
    "    def on(self):\n",
    "        print(\"Laptop On\")\n",
    "\n",
    "l = Laptop()\n",
    "l.on()"
   ]
  },
  {
   "cell_type": "code",
   "execution_count": 64,
   "id": "0081e8dd-5463-4c29-b16b-564b6f57d6ba",
   "metadata": {},
   "outputs": [
    {
     "name": "stdout",
     "output_type": "stream",
     "text": [
      "Calling\n"
     ]
    }
   ],
   "source": [
    "class Phone:\n",
    "    def call(self):\n",
    "        print(\"Calling\")\n",
    "\n",
    "ph = Phone()\n",
    "ph.call()"
   ]
  },
  {
   "cell_type": "code",
   "execution_count": 66,
   "id": "8adff67b-c514-4949-8330-ed2f176e85ba",
   "metadata": {},
   "outputs": [
    {
     "name": "stdout",
     "output_type": "stream",
     "text": [
      "Teaching\n"
     ]
    }
   ],
   "source": [
    "class Teacher:\n",
    "    def teach(self):\n",
    "        print(\"Teaching\")\n",
    "\n",
    "t = Teacher()\n",
    "t.teach()"
   ]
  },
  {
   "cell_type": "code",
   "execution_count": 68,
   "id": "d4d63daf-592d-48c1-81b8-79ee041a4a7f",
   "metadata": {},
   "outputs": [
    {
     "name": "stdout",
     "output_type": "stream",
     "text": [
      "Sitting\n"
     ]
    }
   ],
   "source": [
    "class Chair:\n",
    "    def sit(self):\n",
    "        print(\"Sitting\")\n",
    "\n",
    "ch = Chair()\n",
    "ch.sit()"
   ]
  },
  {
   "cell_type": "code",
   "execution_count": 87,
   "id": "c4c06d16-8cce-4a0b-bcde-f7809f592d7c",
   "metadata": {},
   "outputs": [
    {
     "name": "stdout",
     "output_type": "stream",
     "text": [
      "Honda Civic\n"
     ]
    }
   ],
   "source": [
    "class Car:\n",
    "    def __init__(self, model):\n",
    "        self.model = model\n",
    "\n",
    "my_car = Car(\"Honda Civic\")\n",
    "print(my_car.model)"
   ]
  },
  {
   "cell_type": "markdown",
   "id": "59479de3-bd97-45b6-a5b2-4b9aaf13b1d2",
   "metadata": {},
   "source": [
    "### b) Attributes and Method\n",
    "\n",
    "### Attributes Definition:\n",
    "Attributes are pieces of information stored in an object—like a person's name or age.\n",
    "\n",
    "To store important information about each object"
   ]
  },
  {
   "cell_type": "code",
   "execution_count": null,
   "id": "43d798ec-d6ee-4dc2-aa91-34e1672228f5",
   "metadata": {},
   "outputs": [],
   "source": [
    "class Dog:\n",
    "    def __init__(self, name):\n",
    "        self.name = name\n",
    "    def bark(self):\n",
    "        print(self.name, \"barks\")\n",
    "d = Dog(\"Max\")\n",
    "d.bark()"
   ]
  },
  {
   "cell_type": "code",
   "execution_count": null,
   "id": "e6d52765-ba55-45ee-9e74-1bf12d52278f",
   "metadata": {},
   "outputs": [],
   "source": [
    "class Circle:\n",
    "    def __init__(self, r):\n",
    "        self.radius = r\n",
    "    def area(self):\n",
    "        return 3.14 * self.radius * self.radius\n",
    "c = Circle(5)\n",
    "print(c.area())"
   ]
  },
  {
   "cell_type": "code",
   "execution_count": null,
   "id": "c4a5823c-64e4-4d65-abb9-58276fdb1e40",
   "metadata": {},
   "outputs": [],
   "source": [
    "class Student:\n",
    "    def __init__(self, name, marks):\n",
    "        self.name = name\n",
    "        self.marks = marks\n",
    "    def info(self):\n",
    "        print(self.name, self.marks)\n",
    "s = Student(\"Alice\", 90)\n",
    "s.info()"
   ]
  },
  {
   "cell_type": "code",
   "execution_count": null,
   "id": "c833c4fd-d013-4ba1-bace-935fee46a5ce",
   "metadata": {},
   "outputs": [],
   "source": [
    "class Car:\n",
    "    def __init__(self, brand, speed):\n",
    "        self.brand = brand\n",
    "        self.speed = speed\n",
    "    def drive(self):\n",
    "        print(\"Driving\", self.brand, \"at\", self.speed)\n",
    "c = Car(\"BMW\", 120)\n",
    "c.drive()"
   ]
  },
  {
   "cell_type": "code",
   "execution_count": null,
   "id": "87fbe90a-5fc8-41c2-894b-a8ff28a86d18",
   "metadata": {},
   "outputs": [],
   "source": [
    "class Phone:\n",
    "    def __init__(self, model):\n",
    "        self.model = model\n",
    "    def call(self):\n",
    "        print(\"Calling from\", self.model)\n",
    "p = Phone(\"iPhone\")\n",
    "p.call()"
   ]
  },
  {
   "cell_type": "code",
   "execution_count": null,
   "id": "c02342c3-229a-4038-9692-fe6625277d68",
   "metadata": {},
   "outputs": [],
   "source": [
    "class Lamp:\n",
    "    def __init__(self, color):\n",
    "        self.color = color\n",
    "    def switch_on(self):\n",
    "        print(self.color, \"lamp is on\")\n",
    "l = Lamp(\"Red\")\n",
    "l.switch_on()"
   ]
  },
  {
   "cell_type": "code",
   "execution_count": null,
   "id": "7fda0804-a7d0-45b7-8cb0-16e482a9e1a7",
   "metadata": {},
   "outputs": [],
   "source": [
    "class Teacher:\n",
    "    def __init__(self, subject):\n",
    "        self.subject = subject\n",
    "    def teach(self):\n",
    "        print(\"Teaching\", self.subject)\n",
    "t = Teacher(\"Math\")\n",
    "t.teach()"
   ]
  },
  {
   "cell_type": "code",
   "execution_count": null,
   "id": "e93fc9f6-eee0-4394-a87c-a2cd84633eff",
   "metadata": {},
   "outputs": [],
   "source": [
    "class Laptop:\n",
    "    def __init__(self, brand):\n",
    "        self.brand = brand\n",
    "    def start(self):\n",
    "        print(self.brand, \"laptop started\")\n",
    "l = Laptop(\"Dell\")\n",
    "l.start()"
   ]
  },
  {
   "cell_type": "code",
   "execution_count": null,
   "id": "aa1cbf6b-867d-4107-bb94-fd576f6d91c9",
   "metadata": {},
   "outputs": [],
   "source": [
    "class Fan:\n",
    "    def __init__(self, blades):\n",
    "        self.blades = blades\n",
    "    def rotate(self):\n",
    "        print(\"Rotating with\", self.blades, \"blades\")\n",
    "f = Fan(3)\n",
    "f.rotate()"
   ]
  },
  {
   "cell_type": "code",
   "execution_count": null,
   "id": "b936dcfb-5bea-4e6d-81af-2d1b159842a6",
   "metadata": {},
   "outputs": [],
   "source": [
    "class Box:\n",
    "    def __init__(self, size):\n",
    "        self.size = size\n",
    "    def display(self):\n",
    "        print(\"Box size:\", self.size)\n",
    "b = Box(10)\n",
    "b.display()"
   ]
  },
  {
   "cell_type": "markdown",
   "id": "ec6ee1d8-ff87-48b5-8e58-79c5040b305c",
   "metadata": {},
   "source": [
    "### Methods Definition:\n",
    "\n",
    "Methods are functions that belong to a class. They describe what objects can do.\n",
    "\n",
    "Methods help objects perform tasks or change their information."
   ]
  },
  {
   "cell_type": "code",
   "execution_count": null,
   "id": "aa49c882-41e2-4687-99ba-b307a62aecd9",
   "metadata": {},
   "outputs": [],
   "source": [
    "class A:\n",
    "    def hello(self):\n",
    "        print(\"Hello\")\n",
    "obj = A()\n",
    "obj.hello()"
   ]
  },
  {
   "cell_type": "code",
   "execution_count": null,
   "id": "b577eb43-ea97-4628-b284-3cd06ee843a5",
   "metadata": {},
   "outputs": [],
   "source": [
    "class B:\n",
    "    def add(self, a, b):\n",
    "        return a + b\n",
    "print(B().add(5, 7))"
   ]
  },
  {
   "cell_type": "code",
   "execution_count": null,
   "id": "2680914e-01bd-42d7-99c0-b7b1a551a0d1",
   "metadata": {},
   "outputs": [],
   "source": [
    "class C:\n",
    "    def square(self, n):\n",
    "        return n * n\n",
    "print(C().square(4))"
   ]
  },
  {
   "cell_type": "code",
   "execution_count": null,
   "id": "f4e23ac4-08f0-4786-bb67-880114a1cfab",
   "metadata": {},
   "outputs": [],
   "source": [
    "class D:\n",
    "    def greet(self, name):\n",
    "        print(\"Hi\", name)\n",
    "D().greet(\"Python Documentation\")"
   ]
  },
  {
   "cell_type": "code",
   "execution_count": null,
   "id": "08a56f28-fcc8-4960-9c53-0a88776eafc9",
   "metadata": {},
   "outputs": [],
   "source": [
    "class E:\n",
    "    def multiply(self, a, b, c):\n",
    "        return a * b * c\n",
    "print(E().multiply(2, 3, 4))"
   ]
  },
  {
   "cell_type": "code",
   "execution_count": null,
   "id": "854805ce-a847-4aac-ba14-d9a383b5e183",
   "metadata": {},
   "outputs": [],
   "source": [
    "class F:\n",
    "    def upper(self, text):\n",
    "        return text.upper()\n",
    "print(F().upper(\"python\"))"
   ]
  },
  {
   "cell_type": "code",
   "execution_count": null,
   "id": "af309871-c5f8-4dfa-b76e-dd5162e10b2c",
   "metadata": {},
   "outputs": [],
   "source": [
    "class G:\n",
    "    def reverse(self, text):\n",
    "        return text[::-1]\n",
    "print(G().reverse(\"hello\"))"
   ]
  },
  {
   "cell_type": "code",
   "execution_count": null,
   "id": "99d83978-3aad-431b-953d-1ff0a668da13",
   "metadata": {},
   "outputs": [],
   "source": [
    "class H:\n",
    "    def concat(self, a, b):\n",
    "        return str(a) + str(b)\n",
    "print(H().concat(\"Py\", \"thon\"))"
   ]
  },
  {
   "cell_type": "code",
   "execution_count": null,
   "id": "f2cd5aa5-7e34-450b-bf56-2de33fb8de72",
   "metadata": {},
   "outputs": [],
   "source": [
    "class I:\n",
    "    def is_even(self, n):\n",
    "        return n % 2 == 0\n",
    "print(I().is_even(10))"
   ]
  },
  {
   "cell_type": "code",
   "execution_count": null,
   "id": "3b5db40f-f829-4acd-9668-d7f7a31ae098",
   "metadata": {},
   "outputs": [],
   "source": [
    "class J:\n",
    "    def maximum(self, a, b):\n",
    "        return a if a > b else b\n",
    "print(J().maximum(8, 3))"
   ]
  },
  {
   "cell_type": "markdown",
   "id": "88e82104-eeaf-4fd7-93bd-ee1f30703025",
   "metadata": {},
   "source": [
    "###  Inheritance\n",
    "#### Definition:\n",
    "Inheritance lets you create a new class (child) that automatically gets the features of another class (parent). You can also add new features or change existing ones in the child class.\n",
    "\n",
    "To avoid repeating code and to create a clear relationship between objects."
   ]
  },
  {
   "cell_type": "code",
   "execution_count": null,
   "id": "bb5da97f-7aed-4cf4-b068-06186ab296c3",
   "metadata": {},
   "outputs": [],
   "source": [
    "class Animal:\n",
    "    def speak(self):\n",
    "        print(\"Some sound\")\n",
    "class Dog(Animal):\n",
    "    pass\n",
    "d = Dog()\n",
    "d.speak()"
   ]
  },
  {
   "cell_type": "code",
   "execution_count": null,
   "id": "8e49073b-5b83-4369-a25e-0113e511a5c2",
   "metadata": {},
   "outputs": [],
   "source": [
    "class Animal:\n",
    "    def speak(self):\n",
    "        print(\"Some sound\")\n",
    "class Cat(Animal):\n",
    "    def speak(self):\n",
    "        print(\"Meow\")\n",
    "c = Cat()\n",
    "c.speak()"
   ]
  },
  {
   "cell_type": "code",
   "execution_count": null,
   "id": "ecfc6dab-3a2b-42e3-b3a7-67081db0ba29",
   "metadata": {},
   "outputs": [],
   "source": [
    "class Person:\n",
    "    def __init__(self, name):\n",
    "        self.name = name\n",
    "class Student(Person):\n",
    "    def show(self):\n",
    "        print(self.name)\n",
    "s = Student(\"Alice\")\n",
    "s.show()"
   ]
  },
  {
   "cell_type": "code",
   "execution_count": null,
   "id": "be606393-4930-4e55-a9d8-cdd237fa35f4",
   "metadata": {},
   "outputs": [],
   "source": [
    "class Vehicle:\n",
    "    def __init__(self, brand):\n",
    "        self.brand = brand\n",
    "class Car(Vehicle):\n",
    "    def __init__(self, brand, year):\n",
    "        super().__init__(brand)\n",
    "        self.year = year\n",
    "c = Car(\"Toyota\", 2022)\n",
    "print(c.brand, c.year)"
   ]
  },
  {
   "cell_type": "code",
   "execution_count": null,
   "id": "7cb579a6-8671-4047-80a3-a588ffcff173",
   "metadata": {},
   "outputs": [],
   "source": [
    "class Writer:\n",
    "    def write(self):\n",
    "        print(\"Writing\")\n",
    "class Author(Writer):\n",
    "    def write(self):\n",
    "        print(\"Author writing\")\n",
    "    def publish(self):\n",
    "        print(\"Published\")\n",
    "a = Author()\n",
    "a.write()\n",
    "a.publish()"
   ]
  },
  {
   "cell_type": "code",
   "execution_count": null,
   "id": "647142c0-e3c8-47de-97f2-d729df5cb737",
   "metadata": {},
   "outputs": [],
   "source": [
    "class A:\n",
    "    def show_a(self):\n",
    "        print(\"A\")\n",
    "class B(A):\n",
    "    def show_b(self):\n",
    "        print(\"B\")\n",
    "class C(B):\n",
    "    def show_c(self):\n",
    "        print(\"C\")\n",
    "obj = C()\n",
    "obj.show_a()\n",
    "obj.show_b()\n",
    "obj.show_c()"
   ]
  },
  {
   "cell_type": "code",
   "execution_count": null,
   "id": "f8736768-7b47-48a4-a00d-6a8c30458aac",
   "metadata": {},
   "outputs": [],
   "source": [
    "class Flyer:\n",
    "    def move(self):\n",
    "        print(\"Fly\")\n",
    "class Swimmer:\n",
    "    def move(self):\n",
    "        print(\"Swim\")\n",
    "class Duck(Flyer, Swimmer):\n",
    "    pass\n",
    "d = Duck()\n",
    "d.move()"
   ]
  },
  {
   "cell_type": "code",
   "execution_count": null,
   "id": "ee21ca2b-8ba7-4c5c-8081-e6190fb6fbdf",
   "metadata": {},
   "outputs": [],
   "source": [
    "class Base:\n",
    "    def process(self):\n",
    "        print(\"Base\")\n",
    "class Mid(Base):\n",
    "    def process(self):\n",
    "        super().process()\n",
    "        print(\"Mid\")\n",
    "class Final(Mid):\n",
    "    def process(self):\n",
    "        super().process()\n",
    "        print(\"Final\")\n",
    "f = Final()\n",
    "f.process()"
   ]
  },
  {
   "cell_type": "code",
   "execution_count": null,
   "id": "319e026b-15dc-4453-b5ab-8d230ef21ded",
   "metadata": {},
   "outputs": [],
   "source": [
    "class Shape:\n",
    "    def info(self):\n",
    "        print(\"Shape\")\n",
    "class Circle(Shape):\n",
    "    def area(self, r):\n",
    "        return 3.14 * r * r\n",
    "class Square(Shape):\n",
    "    def area(self, s):\n",
    "        return s * s\n",
    "c = Circle()\n",
    "s = Square()\n",
    "c.info()\n",
    "print(c.area(3))\n",
    "s.info()\n",
    "print(s.area(4))"
   ]
  },
  {
   "cell_type": "markdown",
   "id": "59a168ba-fd43-4255-8b73-6cb9bb09882a",
   "metadata": {},
   "source": [
    "### d) Encapsulation\n",
    "\n",
    "#### Definition:\n",
    "\n",
    "Encapsulation is wrapping the data (attributes) and the methods (actions) together into one class and hiding the inner details from outside the class.\n",
    "\n",
    "To protect data and prevent it from being changed by accident."
   ]
  },
  {
   "cell_type": "code",
   "execution_count": null,
   "id": "b8491e18-9410-4a6e-a22b-bb69ec6b4d59",
   "metadata": {},
   "outputs": [],
   "source": [
    "class Account:\n",
    "    def __init__(self, balance):\n",
    "        self.__balance = balance\n",
    "    def get_balance(self):\n",
    "        return self.__balance\n",
    "a = Account(100)\n",
    "print(a.get_balance())"
   ]
  },
  {
   "cell_type": "code",
   "execution_count": null,
   "id": "04377a03-0db7-4abb-853b-abe870f8a376",
   "metadata": {},
   "outputs": [],
   "source": [
    "class Data:\n",
    "    def __init__(self):\n",
    "        self.__val = 42\n",
    "    def show(self):\n",
    "        return self.__val\n",
    "d = Data()\n",
    "print(d.show())"
   ]
  },
  {
   "cell_type": "code",
   "execution_count": null,
   "id": "2966e4be-f416-43f9-a48f-c9281b3345f1",
   "metadata": {},
   "outputs": [],
   "source": [
    "class Student:\n",
    "    def __init__(self, name):\n",
    "        self.__name = name\n",
    "    def get_name(self):\n",
    "        return self.__name\n",
    "s = Student(\"Alice\")\n",
    "print(s.get_name())"
   ]
  },
  {
   "cell_type": "code",
   "execution_count": null,
   "id": "98a25732-0c9e-4d2c-948a-a1bb0828897e",
   "metadata": {},
   "outputs": [],
   "source": [
    "class Bank:\n",
    "    def __init__(self, balance):\n",
    "        self.__balance = balance\n",
    "    def deposit(self, value):\n",
    "        self.__balance += value\n",
    "    def check(self):\n",
    "        return self.__balance\n",
    "b = Bank(200)\n",
    "b.deposit(100)\n",
    "print(b.check())"
   ]
  },
  {
   "cell_type": "code",
   "execution_count": null,
   "id": "c62d88c9-75a2-42a8-8f43-cb404a090b57",
   "metadata": {},
   "outputs": [],
   "source": [
    "class Box:\n",
    "    def __init__(self, width):\n",
    "        self.__width = width\n",
    "    def get_width(self):\n",
    "        return self.__width\n",
    "box = Box(10)\n",
    "print(box.get_width())"
   ]
  },
  {
   "cell_type": "code",
   "execution_count": null,
   "id": "86268e11-c68b-4f48-9780-698ed82f923c",
   "metadata": {},
   "outputs": [],
   "source": [
    "class User:\n",
    "    def __init__(self, password):\n",
    "        self.__password = password\n",
    "    def check(self, p):\n",
    "        return self.__password == p\n",
    "u = User(\"secret\")\n",
    "print(u.check(\"secret\"))"
   ]
  },
  {
   "cell_type": "code",
   "execution_count": null,
   "id": "a3e36997-e4df-485f-a4dd-a1d445453bd6",
   "metadata": {},
   "outputs": [],
   "source": [
    "class Secret:\n",
    "    def __init__(self):\n",
    "        self.__text = \"hidden\"\n",
    "    def reveal(self):\n",
    "        return self.__text\n",
    "s = Secret()\n",
    "print(s.reveal())"
   ]
  },
  {
   "cell_type": "code",
   "execution_count": null,
   "id": "9de837c9-4343-4a59-a16e-f46b2b56e693",
   "metadata": {},
   "outputs": [],
   "source": [
    "class Config:\n",
    "    def __init__(self, setting):\n",
    "        self.__setting = setting\n",
    "    def read(self):\n",
    "        return self.__setting\n",
    "c = Config(\"dark mode\")\n",
    "print(c.read())"
   ]
  },
  {
   "cell_type": "code",
   "execution_count": null,
   "id": "60e8d05a-8a51-430e-9c5c-fa6051917721",
   "metadata": {},
   "outputs": [],
   "source": [
    "class Number:\n",
    "    def __init__(self, n):\n",
    "        self.__n = n\n",
    "    def get(self):\n",
    "        return self.__n\n",
    "num = Number(55)\n",
    "print(num.get())"
   ]
  },
  {
   "cell_type": "code",
   "execution_count": 105,
   "id": "96003a71-3bbf-4f52-ba1c-6d562af068de",
   "metadata": {},
   "outputs": [
    {
     "name": "stdout",
     "output_type": "stream",
     "text": [
      "150\n"
     ]
    }
   ],
   "source": [
    "class Account:\n",
    "    def __init__(self, balance):\n",
    "        self.__balance = balance  \n",
    "\n",
    "    def deposit(self, amount):\n",
    "        self.__balance += amount\n",
    "\n",
    "    def get_balance(self):\n",
    "        return self.__balance\n",
    "\n",
    "my_acc = Account(100)\n",
    "my_acc.deposit(50)\n",
    "print(my_acc.get_balance())   "
   ]
  },
  {
   "cell_type": "markdown",
   "id": "aa03e560-ffdc-4f0b-ba44-7515631f656e",
   "metadata": {},
   "source": [
    "### e) Polymorphism\n",
    "\n",
    "#### Definition:\n",
    "Polymorphism means \"many forms.\" In Python, it lets you use the same method name in different classes and the correct version will be used for each object.\n",
    "\n",
    "\n",
    "To write flexible code that can work with objects of different types."
   ]
  },
  {
   "cell_type": "code",
   "execution_count": null,
   "id": "2ede4031-80ed-4b51-b731-1711d4103b84",
   "metadata": {},
   "outputs": [],
   "source": [
    "class Dog:\n",
    "    def sound(self):\n",
    "        print(\"Bark\")\n",
    "class Cat:\n",
    "    def sound(self):\n",
    "        print(\"Meow\")\n",
    "for pet in [Dog(), Cat()]:\n",
    "    pet.sound()"
   ]
  },
  {
   "cell_type": "code",
   "execution_count": null,
   "id": "01d8cf39-9e75-433a-bb18-e174823a412f",
   "metadata": {},
   "outputs": [],
   "source": [
    "def add(a, b):\n",
    "    return a + b\n",
    "print(add(5, 6))\n",
    "print(add(\"Py\", \"thon\"))"
   ]
  },
  {
   "cell_type": "code",
   "execution_count": null,
   "id": "ac94f200-e6d3-4cc5-9bbd-1dcd76debc28",
   "metadata": {},
   "outputs": [],
   "source": [
    "class Bird:\n",
    "    def move(self):\n",
    "        print(\"Fly\")\n",
    "class Fish:\n",
    "    def move(self):\n",
    "        print(\"Swim\")\n",
    "for obj in [Bird(), Fish()]:\n",
    "    obj.move()"
   ]
  },
  {
   "cell_type": "code",
   "execution_count": null,
   "id": "b5fc6bd0-a38d-46f1-bee4-59bdf3d684e3",
   "metadata": {},
   "outputs": [],
   "source": [
    "class Shape:\n",
    "    def area(self):\n",
    "        pass\n",
    "class Square(Shape):\n",
    "    def area(self):\n",
    "        return 4 * 4\n",
    "class Circle(Shape):\n",
    "    def area(self):\n",
    "        return 3.14 * 3 * 3\n",
    "print(Square().area())\n",
    "print(Circle().area())"
   ]
  },
  {
   "cell_type": "code",
   "execution_count": null,
   "id": "c574100b-d35d-4839-8848-8b4d2713b587",
   "metadata": {},
   "outputs": [],
   "source": [
    "class English:\n",
    "    def greet(self):\n",
    "        print(\"Hello\")\n",
    "class French:\n",
    "    def greet(self):\n",
    "        print(\"Bonjour\")\n",
    "for lang in [English(), French()]:\n",
    "    lang.greet()"
   ]
  },
  {
   "cell_type": "code",
   "execution_count": null,
   "id": "4fb2145f-d4c2-4034-82a9-cbb901ba151a",
   "metadata": {},
   "outputs": [],
   "source": [
    "class Parent:\n",
    "    def speak(self):\n",
    "        print(\"Parent\")\n",
    "class Child(Parent):\n",
    "    def speak(self):\n",
    "        print(\"Child\")\n",
    "Parent().speak()\n",
    "Child().speak()"
   ]
  },
  {
   "cell_type": "code",
   "execution_count": null,
   "id": "2efa56a8-7ee0-46a5-bb08-7c700b6d06b5",
   "metadata": {},
   "outputs": [],
   "source": [
    "class A:\n",
    "    def calculate(self, a, b):\n",
    "        return a + b\n",
    "class B:\n",
    "    def calculate(self, a, b):\n",
    "        return a * b\n",
    "print(A().calculate(4, 5))\n",
    "print(B().calculate(4, 5))"
   ]
  },
  {
   "cell_type": "code",
   "execution_count": null,
   "id": "5b17a2cd-9544-4631-8a73-ae9b040614fd",
   "metadata": {},
   "outputs": [],
   "source": [
    "class Apple:\n",
    "    def taste(self):\n",
    "        print(\"Sweet\")\n",
    "class Lemon:\n",
    "    def taste(self):\n",
    "        print(\"Sour\")\n",
    "for fruit in [Apple(), Lemon()]:\n",
    "    fruit.taste()"
   ]
  },
  {
   "cell_type": "code",
   "execution_count": null,
   "id": "650857ef-4fef-4aaf-a536-e8a011d53c50",
   "metadata": {},
   "outputs": [],
   "source": [
    "class Pen:\n",
    "    def write(self):\n",
    "        print(\"Writing\")\n",
    "class Marker:\n",
    "    def write(self):\n",
    "        print(\"Drawing\")\n",
    "for tool in [Pen(), Marker()]:\n",
    "    tool.write()"
   ]
  },
  {
   "cell_type": "code",
   "execution_count": 109,
   "id": "1045a39a-ca9f-43e7-bfad-2cb2139ca713",
   "metadata": {},
   "outputs": [
    {
     "name": "stdout",
     "output_type": "stream",
     "text": [
      "Hi, I'm Neha, 28 years old, and I work as a Software Engineer.\n",
      "Hi, I'm Raj, 34 years old, and I work as a Doctor.\n",
      "Neha just turned 29!\n"
     ]
    }
   ],
   "source": [
    "class Person:\n",
    "    def __init__(self, name, age, profession):\n",
    "        self.name = name\n",
    "        self.age = age\n",
    "        self.profession = profession\n",
    "\n",
    "    def introduce(self):\n",
    "        print(f\"Hi, I'm {self.name}, {self.age} years old, and I work as a {self.profession}.\")\n",
    "\n",
    "    def celebrate_birthday(self):\n",
    "        self.age += 1\n",
    "        print(f\"{self.name} just turned {self.age}!\")\n",
    "\n",
    "\n",
    "person1 = Person(\"Neha\", 28, \"Software Engineer\")\n",
    "person2 = Person(\"Raj\", 34, \"Doctor\")\n",
    "\n",
    "person1.introduce()      \n",
    "person2.introduce()      \n",
    "person1.celebrate_birthday()  \n"
   ]
  },
  {
   "cell_type": "markdown",
   "id": "3e9d6843-407c-4cbe-8432-07efa88fdfbf",
   "metadata": {},
   "source": [
    "## Numpy and Pandas"
   ]
  },
  {
   "cell_type": "markdown",
   "id": "d294e6c5-45f1-4a1b-9e33-f924aea1284e",
   "metadata": {},
   "source": [
    "## 1. What is NumPy?\n",
    "\n",
    "NumPy (Numerical Python) is a powerful library in Python for working with numbers, especially arrays (tables of values). It provides incredibly fast ways to store, access, and do math on collections of numbers—much faster and more flexible than regular Python lists. NumPy forms the foundation for most scientific and data computing in Python.\n",
    "\n",
    "**Uses**  \n",
    "It makes handling big sets of numbers easy—like in statistics, engineering, or working with images. You can do calculations, reshaping, and complex mathematics all with just a few lines of code, and it's much faster than pure Python lists.\n"
   ]
  },
  {
   "cell_type": "code",
   "execution_count": 113,
   "id": "d7e5f98d-f49d-407b-aea4-9f2d7859b4c1",
   "metadata": {},
   "outputs": [
    {
     "name": "stdout",
     "output_type": "stream",
     "text": [
      "[1 2 3 4 5]\n"
     ]
    }
   ],
   "source": [
    "import numpy as np\n",
    "arr = np.array([1, 2, 3, 4, 5])\n",
    "print(arr)"
   ]
  },
  {
   "cell_type": "markdown",
   "id": "107ec86a-e214-4aaf-bda0-5bdab48bf16b",
   "metadata": {},
   "source": [
    "## 2. NumPy Arrays\n",
    "\n",
    "### a) Array Definition\n",
    "\n",
    "A NumPy array is a grid or table of numbers, all stored together in memory. Unlike Python lists, NumPy arrays are typed (all numbers must be of the same type) and support fast mathematical operations.\n",
    "\n",
    "**Uses**  \n",
    "Arrays let you do things like adding, multiplying, or transforming entire groups of numbers instantly.\n"
   ]
  },
  {
   "cell_type": "code",
   "execution_count": 117,
   "id": "155f79cc-c722-4e1e-b8f4-37166fd9d71a",
   "metadata": {},
   "outputs": [
    {
     "name": "stdout",
     "output_type": "stream",
     "text": [
      "20\n"
     ]
    }
   ],
   "source": [
    "arr = np.array([10, 20, 30])\n",
    "print(arr[1])  # Access second value: 20"
   ]
  },
  {
   "cell_type": "markdown",
   "id": "e2a998c4-23d3-4891-97eb-c676eabae237",
   "metadata": {},
   "source": [
    "### b)Creating Arrays\n",
    "\n",
    "You can create arrays from Python lists, or generate special arrays (like zeros, ones, random numbers).\n",
    "\n",
    "**Uses**  \n",
    "To quickly build datasets and structures for computation."
   ]
  },
  {
   "cell_type": "code",
   "execution_count": 125,
   "id": "7cf9c7de-9d97-4f97-ad54-2719a1153089",
   "metadata": {},
   "outputs": [
    {
     "name": "stdout",
     "output_type": "stream",
     "text": [
      "[0. 0. 0.]\n",
      "[1. 1. 1. 1. 1.]\n",
      "[0.48063187 0.21968775 0.32342814 0.34021448]\n"
     ]
    }
   ],
   "source": [
    "zeros = np.zeros(3)         \n",
    "ones = np.ones(5)           \n",
    "rand = np.random.rand(4)   \n",
    "print(zeros)\n",
    "print(ones)\n",
    "print(rand)"
   ]
  },
  {
   "cell_type": "markdown",
   "id": "c8b300a9-4d26-47b7-b670-a9545b347ba8",
   "metadata": {},
   "source": [
    "## c) Array Indexing and Slicing\n",
    "\n",
    "Indexing lets you pick out specific numbers from an array. Slicing allows you to grab a part or chunk of an array.\n",
    "\n",
    "**Uses**  \n",
    "So you can examine, change, or analyze just certain rows or columns of data, like focusing on ages above 30.\n"
   ]
  },
  {
   "cell_type": "code",
   "execution_count": 130,
   "id": "f77a384d-ba1e-4fd8-878a-9549e1555dbb",
   "metadata": {},
   "outputs": [
    {
     "name": "stdout",
     "output_type": "stream",
     "text": [
      "[10 20 30]\n"
     ]
    }
   ],
   "source": [
    "arr = np.array([10, 20, 30, 40, 50])\n",
    "print(arr[:3])   "
   ]
  },
  {
   "cell_type": "markdown",
   "id": "183e84db-0522-4a01-b6ba-705a3da770d0",
   "metadata": {},
   "source": [
    "## 4. Array Operations\n",
    "\n",
    "NumPy allows you to do math directly on arrays—like adding a number to every value, multiplying two arrays together, or running calculations across all elements.\n",
    "\n",
    "**Uses**  \n",
    "It massively speeds up calculations—imagine adding 5 to every number in a million-value array in one go!"
   ]
  },
  {
   "cell_type": "code",
   "execution_count": 135,
   "id": "b40f0e94-8696-4f92-a12f-c33b6569de88",
   "metadata": {},
   "outputs": [
    {
     "name": "stdout",
     "output_type": "stream",
     "text": [
      "[11 22 33]\n",
      "[2 4 6]\n"
     ]
    }
   ],
   "source": [
    "arr = np.array([1, 2, 3])\n",
    "arr2 = np.array([10, 20, 30])\n",
    "print(arr + arr2)        \n",
    "print(arr * 2)           "
   ]
  },
  {
   "cell_type": "markdown",
   "id": "8ee0fb04-6b6d-4632-9a4b-48328065f698",
   "metadata": {},
   "source": [
    "## 5. Shape and Reshape\n",
    "\n",
    "Shape describes how many rows and columns an array has. Reshape changes the layout into new dimensions (2D table, for example).\n",
    "\n",
    "**Uses**  \n",
    "To prepare data for analyses, convert between rows and columns, or organize for machine learning."
   ]
  },
  {
   "cell_type": "code",
   "execution_count": 140,
   "id": "33898f61-6e52-4a05-9577-fde0558cfbb2",
   "metadata": {},
   "outputs": [
    {
     "name": "stdout",
     "output_type": "stream",
     "text": [
      "[[1 2 3]\n",
      " [4 5 6]]\n"
     ]
    }
   ],
   "source": [
    "a = np.array([1, 2, 3, 4, 5, 6])\n",
    "b = a.reshape((2, 3))      \n",
    "print(b)"
   ]
  },
  {
   "cell_type": "markdown",
   "id": "6cbcb105-15f7-4c6b-872a-44314a76cd4b",
   "metadata": {},
   "source": [
    "## 6. Aggregate Functions (Sum, Mean, Max, Min)\n",
    "\n",
    "Aggregate functions allow you to quickly summarize data—like getting the total sum, average (mean), biggest (max), or smallest (min) value in your array.\n",
    "\n",
    "**Uses**  \n",
    "These let you instantly understand or analyze your data set in useful ways."
   ]
  },
  {
   "cell_type": "code",
   "execution_count": 147,
   "id": "33621baf-faf4-45aa-bc44-f3a4a5da8332",
   "metadata": {},
   "outputs": [
    {
     "name": "stdout",
     "output_type": "stream",
     "text": [
      "15\n",
      "5.0\n",
      "7\n",
      "3\n"
     ]
    }
   ],
   "source": [
    "arr = np.array([3, 7, 5])\n",
    "print(np.sum(arr))  \n",
    "print(np.mean(arr)) \n",
    "print(np.max(arr))   \n",
    "print(np.min(arr))   "
   ]
  },
  {
   "cell_type": "markdown",
   "id": "19284e33-a3a1-4696-b1f2-a4a085500824",
   "metadata": {},
   "source": [
    "## 7. Broadcasting\n",
    "\n",
    "Broadcasting lets NumPy automatically extend smaller arrays so operations can be performed without writing loops. For example, adding a single value to every element of a big array.\n",
    "\n",
    "**Uses**  \n",
    "It saves time and code when working with arrays of different shapes."
   ]
  },
  {
   "cell_type": "markdown",
   "id": "5f7cd0be-1d79-462d-9e42-bcfa61928e39",
   "metadata": {},
   "source": [
    "arr = np.array([1, 2, 3])\n",
    "arr = arr + 5     \n",
    "print(arr)\n",
    "arr = np.array([1, 2, 3])\n",
    "arr = arr + 5     \n",
    "print(arr)"
   ]
  },
  {
   "cell_type": "markdown",
   "id": "5526ea5b-75d8-41d4-ab3c-221e322aa735",
   "metadata": {},
   "source": [
    "## 8. Multidimensional Arrays (Matrices)\n",
    "\n",
    "NumPy can handle 2D or more-dimensional arrays, making it perfect for working with tables (matrices), images, or higher-dimensional data.\n",
    "\n",
    "**Uses**  \n",
    "For scientific data, images, machine learning, and statistical tables."
   ]
  },
  {
   "cell_type": "code",
   "execution_count": 157,
   "id": "28b9902e-8470-44e3-bbf4-0c89d042ef44",
   "metadata": {},
   "outputs": [
    {
     "name": "stdout",
     "output_type": "stream",
     "text": [
      "2\n"
     ]
    }
   ],
   "source": [
    "matrix = np.array([[1, 2], [3, 4]])\n",
    "print(matrix[0, 1]) "
   ]
  },
  {
   "cell_type": "markdown",
   "id": "3e363afa-0c05-4770-9e97-5b86b7d801fb",
   "metadata": {},
   "source": [
    "## 9. Saving and Loading Arrays\n",
    "\n",
    "NumPy lets you save arrays to disk or load them again easily. This is useful when working with big data that you don’t want to recreate every time.\n",
    "\n",
    "**Uses**  \n",
    "For keeping and reusing work in long projects like analysis or machine learning."
   ]
  },
  {
   "cell_type": "code",
   "execution_count": 168,
   "id": "bc3d7193-707f-4759-8ab7-ee803f5ecde5",
   "metadata": {},
   "outputs": [
    {
     "name": "stdout",
     "output_type": "stream",
     "text": [
      "[1 2 3]\n"
     ]
    }
   ],
   "source": [
    "arr = np.array([1, 2, 3])\n",
    "np.save('my_array.npy', arr)     \n",
    "new_arr = np.load('my_array.npy')\n",
    "print(new_arr)"
   ]
  },
  {
   "cell_type": "markdown",
   "id": "8021562f-2027-4215-bb2a-f8aa6d11ac3b",
   "metadata": {},
   "source": [
    "## Pandas"
   ]
  },
  {
   "cell_type": "markdown",
   "id": "c67b76b5-6ad8-4ba9-91a4-eea3c2a80f6f",
   "metadata": {},
   "source": [
    "## 1. What is pandas?\n",
    "\n",
    "pandas is a Python library made for handling and analyzing data, usually in table form (think Excel sheets, CSV files, or SQL tables). It makes it easy to load, change, clean, and summarize big sets of data—with just a few commands.\n",
    "\n",
    "**Uses**  \n",
    "pandas turns messy or raw data into something easy to understand and analyze. It’s the go-to tool for data science, research, business analysis, and any work with rows and columns."
   ]
  },
  {
   "cell_type": "code",
   "execution_count": 262,
   "id": "a0ba1eb0-d1a0-4d05-b22c-01854bf79621",
   "metadata": {},
   "outputs": [
    {
     "name": "stdout",
     "output_type": "stream",
     "text": [
      "      name  score\n",
      "0  Athahar     88\n",
      "1      Sai     77\n"
     ]
    }
   ],
   "source": [
    "import pandas as pd\n",
    "data = pd.DataFrame({'name': ['Athahar', 'Sai'], 'score': [88, 77]})\n",
    "print(data)"
   ]
  },
  {
   "cell_type": "markdown",
   "id": "b588f5df-a7eb-4d79-bad4-6cad9c04d0cf",
   "metadata": {},
   "source": [
    "## 2. DataFrame and Series\n",
    "\n",
    "### a) DataFrame\n",
    "\n",
    "A DataFrame is pandas’ main table object—like a supercharged Excel spreadsheet, with rows and columns you can easily change or extract from.\n",
    "\n",
    "**Uses**  \n",
    "It helps you organize, clean, and analyze data from the real world (contacts, sales, experiment results).\n"
   ]
  },
  {
   "cell_type": "code",
   "execution_count": 265,
   "id": "4a79a79b-50f4-4e93-8944-96b78e90b61d",
   "metadata": {},
   "outputs": [
    {
     "name": "stdout",
     "output_type": "stream",
     "text": [
      "        City  Population\n",
      "0  Hyderabad           8\n",
      "1  Bangalore           4\n"
     ]
    }
   ],
   "source": [
    "df = pd.DataFrame({'City': ['Hyderabad', 'Bangalore'], 'Population': [8, 4]})\n",
    "print(df)"
   ]
  },
  {
   "cell_type": "markdown",
   "id": "f522c443-9086-41a7-bc24-c7b979db9981",
   "metadata": {},
   "source": [
    "### b) Series\n",
    "\n",
    "A Series is like a single column from a DataFrame—a list with labels.\n",
    "\n",
    "**Uses**  \n",
    "For handling just one set of data (like ages) or working with column-by-column operations."
   ]
  },
  {
   "cell_type": "code",
   "execution_count": 268,
   "id": "52d6030e-0871-44e3-96d0-b1d1e2411b7e",
   "metadata": {},
   "outputs": [
    {
     "name": "stdout",
     "output_type": "stream",
     "text": [
      "0    23\n",
      "1    35\n",
      "2    29\n",
      "dtype: int64\n"
     ]
    }
   ],
   "source": [
    "ages = pd.Series([23, 35, 29])\n",
    "print(ages)"
   ]
  },
  {
   "cell_type": "markdown",
   "id": "59122d67-e1c4-46d2-8adf-3971ebec8ddc",
   "metadata": {},
   "source": [
    "## 3. Reading and Writing Data\n",
    "\n",
    "### a) Reading CSV Files\n",
    "\n",
    "You can load data from CSV or Excel files (spreadsheets) directly into pandas for analysis.\n",
    "\n",
    "**Uses**  \n",
    "To quickly load real-world data into your code."
   ]
  },
  {
   "cell_type": "code",
   "execution_count": 271,
   "id": "762a100e-f54e-41ec-8e2c-655d847b5e12",
   "metadata": {},
   "outputs": [
    {
     "data": {
      "text/html": [
       "<div>\n",
       "<style scoped>\n",
       "    .dataframe tbody tr th:only-of-type {\n",
       "        vertical-align: middle;\n",
       "    }\n",
       "\n",
       "    .dataframe tbody tr th {\n",
       "        vertical-align: top;\n",
       "    }\n",
       "\n",
       "    .dataframe thead th {\n",
       "        text-align: right;\n",
       "    }\n",
       "</style>\n",
       "<table border=\"1\" class=\"dataframe\">\n",
       "  <thead>\n",
       "    <tr style=\"text-align: right;\">\n",
       "      <th></th>\n",
       "      <th>Call  Failure</th>\n",
       "      <th>Complains</th>\n",
       "      <th>Subscription  Length</th>\n",
       "      <th>Charge  Amount</th>\n",
       "      <th>Seconds of Use</th>\n",
       "      <th>Frequency of use</th>\n",
       "      <th>Frequency of SMS</th>\n",
       "      <th>Distinct Called Numbers</th>\n",
       "      <th>Age Group</th>\n",
       "      <th>Tariff Plan</th>\n",
       "      <th>Status</th>\n",
       "      <th>Age</th>\n",
       "      <th>Customer Value</th>\n",
       "      <th>Churn</th>\n",
       "    </tr>\n",
       "  </thead>\n",
       "  <tbody>\n",
       "    <tr>\n",
       "      <th>0</th>\n",
       "      <td>8</td>\n",
       "      <td>0</td>\n",
       "      <td>38</td>\n",
       "      <td>0</td>\n",
       "      <td>4370</td>\n",
       "      <td>71</td>\n",
       "      <td>5</td>\n",
       "      <td>17</td>\n",
       "      <td>3</td>\n",
       "      <td>1</td>\n",
       "      <td>1</td>\n",
       "      <td>30</td>\n",
       "      <td>197.640</td>\n",
       "      <td>0</td>\n",
       "    </tr>\n",
       "    <tr>\n",
       "      <th>1</th>\n",
       "      <td>0</td>\n",
       "      <td>0</td>\n",
       "      <td>39</td>\n",
       "      <td>0</td>\n",
       "      <td>318</td>\n",
       "      <td>5</td>\n",
       "      <td>7</td>\n",
       "      <td>4</td>\n",
       "      <td>2</td>\n",
       "      <td>1</td>\n",
       "      <td>2</td>\n",
       "      <td>25</td>\n",
       "      <td>46.035</td>\n",
       "      <td>0</td>\n",
       "    </tr>\n",
       "    <tr>\n",
       "      <th>2</th>\n",
       "      <td>10</td>\n",
       "      <td>0</td>\n",
       "      <td>37</td>\n",
       "      <td>0</td>\n",
       "      <td>2453</td>\n",
       "      <td>60</td>\n",
       "      <td>359</td>\n",
       "      <td>24</td>\n",
       "      <td>3</td>\n",
       "      <td>1</td>\n",
       "      <td>1</td>\n",
       "      <td>30</td>\n",
       "      <td>1536.520</td>\n",
       "      <td>0</td>\n",
       "    </tr>\n",
       "    <tr>\n",
       "      <th>3</th>\n",
       "      <td>10</td>\n",
       "      <td>0</td>\n",
       "      <td>38</td>\n",
       "      <td>0</td>\n",
       "      <td>4198</td>\n",
       "      <td>66</td>\n",
       "      <td>1</td>\n",
       "      <td>35</td>\n",
       "      <td>1</td>\n",
       "      <td>1</td>\n",
       "      <td>1</td>\n",
       "      <td>15</td>\n",
       "      <td>240.020</td>\n",
       "      <td>0</td>\n",
       "    </tr>\n",
       "    <tr>\n",
       "      <th>4</th>\n",
       "      <td>3</td>\n",
       "      <td>0</td>\n",
       "      <td>38</td>\n",
       "      <td>0</td>\n",
       "      <td>2393</td>\n",
       "      <td>58</td>\n",
       "      <td>2</td>\n",
       "      <td>33</td>\n",
       "      <td>1</td>\n",
       "      <td>1</td>\n",
       "      <td>1</td>\n",
       "      <td>15</td>\n",
       "      <td>145.805</td>\n",
       "      <td>0</td>\n",
       "    </tr>\n",
       "  </tbody>\n",
       "</table>\n",
       "</div>"
      ],
      "text/plain": [
       "   Call  Failure  Complains  Subscription  Length  Charge  Amount  \\\n",
       "0              8          0                    38               0   \n",
       "1              0          0                    39               0   \n",
       "2             10          0                    37               0   \n",
       "3             10          0                    38               0   \n",
       "4              3          0                    38               0   \n",
       "\n",
       "   Seconds of Use  Frequency of use  Frequency of SMS  \\\n",
       "0            4370                71                 5   \n",
       "1             318                 5                 7   \n",
       "2            2453                60               359   \n",
       "3            4198                66                 1   \n",
       "4            2393                58                 2   \n",
       "\n",
       "   Distinct Called Numbers  Age Group  Tariff Plan  Status  Age  \\\n",
       "0                       17          3            1       1   30   \n",
       "1                        4          2            1       2   25   \n",
       "2                       24          3            1       1   30   \n",
       "3                       35          1            1       1   15   \n",
       "4                       33          1            1       1   15   \n",
       "\n",
       "   Customer Value  Churn  \n",
       "0         197.640      0  \n",
       "1          46.035      0  \n",
       "2        1536.520      0  \n",
       "3         240.020      0  \n",
       "4         145.805      0  "
      ]
     },
     "execution_count": 271,
     "metadata": {},
     "output_type": "execute_result"
    }
   ],
   "source": [
    "df = pd.read_csv(\"churn.csv\")\n",
    "df.head()"
   ]
  },
  {
   "cell_type": "markdown",
   "id": "d286124f-52bf-4e8f-aaf9-9919a3ea72b5",
   "metadata": {},
   "source": [
    "### b) Writing to CSV Files\n",
    "\n",
    "Saves your processed data back to CSV, so you can share or reuse it.\n",
    "\n",
    "**Uses**  \n",
    "For saving results, exporting cleaned data, or sharing findings."
   ]
  },
  {
   "cell_type": "code",
   "execution_count": 274,
   "id": "daac1638-b37d-462b-90af-325cd7bf0cee",
   "metadata": {},
   "outputs": [],
   "source": [
    "df.to_csv('results.csv', index=False)"
   ]
  },
  {
   "cell_type": "markdown",
   "id": "ab758741-6624-4f7e-9b9d-1d90bb6801c9",
   "metadata": {},
   "source": [
    "## 4. Selecting Data\n",
    "\n",
    "You can easily select specific rows or columns using labels or numbers—just like in a spreadsheet.\n",
    "\n",
    "**Uses**  \n",
    "To focus on interesting or important parts of your data."
   ]
  },
  {
   "cell_type": "code",
   "execution_count": 277,
   "id": "3d11967f-0dbb-49ad-9cfb-9a9435919257",
   "metadata": {},
   "outputs": [
    {
     "name": "stdout",
     "output_type": "stream",
     "text": [
      "0       30\n",
      "1       25\n",
      "2       30\n",
      "3       15\n",
      "4       15\n",
      "        ..\n",
      "3145    25\n",
      "3146    55\n",
      "3147    30\n",
      "3148    30\n",
      "3149    30\n",
      "Name: Age, Length: 3150, dtype: int64\n",
      "Call  Failure                 8.00\n",
      "Complains                     0.00\n",
      "Subscription  Length         38.00\n",
      "Charge  Amount                0.00\n",
      "Seconds of Use             4370.00\n",
      "Frequency of use             71.00\n",
      "Frequency of SMS              5.00\n",
      "Distinct Called Numbers      17.00\n",
      "Age Group                     3.00\n",
      "Tariff Plan                   1.00\n",
      "Status                        1.00\n",
      "Age                          30.00\n",
      "Customer Value              197.64\n",
      "Churn                         0.00\n",
      "Name: 0, dtype: float64\n"
     ]
    },
    {
     "data": {
      "text/plain": [
       "[['Age', 'Status']]"
      ]
     },
     "execution_count": 277,
     "metadata": {},
     "output_type": "execute_result"
    }
   ],
   "source": [
    "print(df['Age'])         \n",
    "print(df.iloc[0])     \n",
    "[['Age', 'Status']]"
   ]
  },
  {
   "cell_type": "markdown",
   "id": "08b0f2f8-8a7c-473d-ab5f-c6b71dd7f8a7",
   "metadata": {},
   "source": [
    "## 5. Filtering Data\n",
    "\n",
    "Filtering means picking out only the rows or values that meet certain conditions.\n",
    "\n",
    "**Uses**  \n",
    "Find important data, like high scores or locations above a certain population."
   ]
  },
  {
   "cell_type": "code",
   "execution_count": 280,
   "id": "e4f7def7-93ff-436b-805f-36deedba9b20",
   "metadata": {},
   "outputs": [
    {
     "data": {
      "text/html": [
       "<div>\n",
       "<style scoped>\n",
       "    .dataframe tbody tr th:only-of-type {\n",
       "        vertical-align: middle;\n",
       "    }\n",
       "\n",
       "    .dataframe tbody tr th {\n",
       "        vertical-align: top;\n",
       "    }\n",
       "\n",
       "    .dataframe thead th {\n",
       "        text-align: right;\n",
       "    }\n",
       "</style>\n",
       "<table border=\"1\" class=\"dataframe\">\n",
       "  <thead>\n",
       "    <tr style=\"text-align: right;\">\n",
       "      <th></th>\n",
       "      <th>Call  Failure</th>\n",
       "      <th>Complains</th>\n",
       "      <th>Subscription  Length</th>\n",
       "      <th>Charge  Amount</th>\n",
       "      <th>Seconds of Use</th>\n",
       "      <th>Frequency of use</th>\n",
       "      <th>Frequency of SMS</th>\n",
       "      <th>Distinct Called Numbers</th>\n",
       "      <th>Age Group</th>\n",
       "      <th>Tariff Plan</th>\n",
       "      <th>Status</th>\n",
       "      <th>Age</th>\n",
       "      <th>Customer Value</th>\n",
       "      <th>Churn</th>\n",
       "    </tr>\n",
       "  </thead>\n",
       "  <tbody>\n",
       "    <tr>\n",
       "      <th>20</th>\n",
       "      <td>7</td>\n",
       "      <td>0</td>\n",
       "      <td>37</td>\n",
       "      <td>1</td>\n",
       "      <td>11465</td>\n",
       "      <td>154</td>\n",
       "      <td>11</td>\n",
       "      <td>47</td>\n",
       "      <td>4</td>\n",
       "      <td>1</td>\n",
       "      <td>1</td>\n",
       "      <td>45</td>\n",
       "      <td>317.975</td>\n",
       "      <td>0</td>\n",
       "    </tr>\n",
       "    <tr>\n",
       "      <th>23</th>\n",
       "      <td>21</td>\n",
       "      <td>1</td>\n",
       "      <td>36</td>\n",
       "      <td>8</td>\n",
       "      <td>10435</td>\n",
       "      <td>93</td>\n",
       "      <td>1</td>\n",
       "      <td>42</td>\n",
       "      <td>5</td>\n",
       "      <td>2</td>\n",
       "      <td>1</td>\n",
       "      <td>55</td>\n",
       "      <td>159.420</td>\n",
       "      <td>0</td>\n",
       "    </tr>\n",
       "    <tr>\n",
       "      <th>30</th>\n",
       "      <td>3</td>\n",
       "      <td>0</td>\n",
       "      <td>33</td>\n",
       "      <td>1</td>\n",
       "      <td>6785</td>\n",
       "      <td>97</td>\n",
       "      <td>14</td>\n",
       "      <td>22</td>\n",
       "      <td>5</td>\n",
       "      <td>1</td>\n",
       "      <td>1</td>\n",
       "      <td>55</td>\n",
       "      <td>124.230</td>\n",
       "      <td>0</td>\n",
       "    </tr>\n",
       "    <tr>\n",
       "      <th>31</th>\n",
       "      <td>0</td>\n",
       "      <td>1</td>\n",
       "      <td>36</td>\n",
       "      <td>0</td>\n",
       "      <td>628</td>\n",
       "      <td>7</td>\n",
       "      <td>9</td>\n",
       "      <td>4</td>\n",
       "      <td>4</td>\n",
       "      <td>1</td>\n",
       "      <td>2</td>\n",
       "      <td>45</td>\n",
       "      <td>38.375</td>\n",
       "      <td>1</td>\n",
       "    </tr>\n",
       "    <tr>\n",
       "      <th>32</th>\n",
       "      <td>0</td>\n",
       "      <td>0</td>\n",
       "      <td>36</td>\n",
       "      <td>1</td>\n",
       "      <td>338</td>\n",
       "      <td>4</td>\n",
       "      <td>4</td>\n",
       "      <td>2</td>\n",
       "      <td>5</td>\n",
       "      <td>1</td>\n",
       "      <td>1</td>\n",
       "      <td>55</td>\n",
       "      <td>11.130</td>\n",
       "      <td>0</td>\n",
       "    </tr>\n",
       "    <tr>\n",
       "      <th>...</th>\n",
       "      <td>...</td>\n",
       "      <td>...</td>\n",
       "      <td>...</td>\n",
       "      <td>...</td>\n",
       "      <td>...</td>\n",
       "      <td>...</td>\n",
       "      <td>...</td>\n",
       "      <td>...</td>\n",
       "      <td>...</td>\n",
       "      <td>...</td>\n",
       "      <td>...</td>\n",
       "      <td>...</td>\n",
       "      <td>...</td>\n",
       "      <td>...</td>\n",
       "    </tr>\n",
       "    <tr>\n",
       "      <th>3131</th>\n",
       "      <td>5</td>\n",
       "      <td>1</td>\n",
       "      <td>38</td>\n",
       "      <td>0</td>\n",
       "      <td>933</td>\n",
       "      <td>13</td>\n",
       "      <td>16</td>\n",
       "      <td>6</td>\n",
       "      <td>4</td>\n",
       "      <td>1</td>\n",
       "      <td>2</td>\n",
       "      <td>45</td>\n",
       "      <td>63.650</td>\n",
       "      <td>1</td>\n",
       "    </tr>\n",
       "    <tr>\n",
       "      <th>3132</th>\n",
       "      <td>5</td>\n",
       "      <td>0</td>\n",
       "      <td>38</td>\n",
       "      <td>2</td>\n",
       "      <td>643</td>\n",
       "      <td>10</td>\n",
       "      <td>11</td>\n",
       "      <td>4</td>\n",
       "      <td>5</td>\n",
       "      <td>1</td>\n",
       "      <td>1</td>\n",
       "      <td>55</td>\n",
       "      <td>26.295</td>\n",
       "      <td>0</td>\n",
       "    </tr>\n",
       "    <tr>\n",
       "      <th>3139</th>\n",
       "      <td>9</td>\n",
       "      <td>0</td>\n",
       "      <td>28</td>\n",
       "      <td>1</td>\n",
       "      <td>1873</td>\n",
       "      <td>45</td>\n",
       "      <td>37</td>\n",
       "      <td>70</td>\n",
       "      <td>5</td>\n",
       "      <td>1</td>\n",
       "      <td>1</td>\n",
       "      <td>55</td>\n",
       "      <td>84.270</td>\n",
       "      <td>0</td>\n",
       "    </tr>\n",
       "    <tr>\n",
       "      <th>3141</th>\n",
       "      <td>5</td>\n",
       "      <td>0</td>\n",
       "      <td>28</td>\n",
       "      <td>0</td>\n",
       "      <td>1130</td>\n",
       "      <td>16</td>\n",
       "      <td>28</td>\n",
       "      <td>5</td>\n",
       "      <td>4</td>\n",
       "      <td>1</td>\n",
       "      <td>2</td>\n",
       "      <td>45</td>\n",
       "      <td>98.650</td>\n",
       "      <td>0</td>\n",
       "    </tr>\n",
       "    <tr>\n",
       "      <th>3146</th>\n",
       "      <td>17</td>\n",
       "      <td>0</td>\n",
       "      <td>17</td>\n",
       "      <td>1</td>\n",
       "      <td>9237</td>\n",
       "      <td>177</td>\n",
       "      <td>80</td>\n",
       "      <td>42</td>\n",
       "      <td>5</td>\n",
       "      <td>1</td>\n",
       "      <td>1</td>\n",
       "      <td>55</td>\n",
       "      <td>261.210</td>\n",
       "      <td>0</td>\n",
       "    </tr>\n",
       "  </tbody>\n",
       "</table>\n",
       "<p>565 rows × 14 columns</p>\n",
       "</div>"
      ],
      "text/plain": [
       "      Call  Failure  Complains  Subscription  Length  Charge  Amount  \\\n",
       "20                7          0                    37               1   \n",
       "23               21          1                    36               8   \n",
       "30                3          0                    33               1   \n",
       "31                0          1                    36               0   \n",
       "32                0          0                    36               1   \n",
       "...             ...        ...                   ...             ...   \n",
       "3131              5          1                    38               0   \n",
       "3132              5          0                    38               2   \n",
       "3139              9          0                    28               1   \n",
       "3141              5          0                    28               0   \n",
       "3146             17          0                    17               1   \n",
       "\n",
       "      Seconds of Use  Frequency of use  Frequency of SMS  \\\n",
       "20             11465               154                11   \n",
       "23             10435                93                 1   \n",
       "30              6785                97                14   \n",
       "31               628                 7                 9   \n",
       "32               338                 4                 4   \n",
       "...              ...               ...               ...   \n",
       "3131             933                13                16   \n",
       "3132             643                10                11   \n",
       "3139            1873                45                37   \n",
       "3141            1130                16                28   \n",
       "3146            9237               177                80   \n",
       "\n",
       "      Distinct Called Numbers  Age Group  Tariff Plan  Status  Age  \\\n",
       "20                         47          4            1       1   45   \n",
       "23                         42          5            2       1   55   \n",
       "30                         22          5            1       1   55   \n",
       "31                          4          4            1       2   45   \n",
       "32                          2          5            1       1   55   \n",
       "...                       ...        ...          ...     ...  ...   \n",
       "3131                        6          4            1       2   45   \n",
       "3132                        4          5            1       1   55   \n",
       "3139                       70          5            1       1   55   \n",
       "3141                        5          4            1       2   45   \n",
       "3146                       42          5            1       1   55   \n",
       "\n",
       "      Customer Value  Churn  \n",
       "20           317.975      0  \n",
       "23           159.420      0  \n",
       "30           124.230      0  \n",
       "31            38.375      1  \n",
       "32            11.130      0  \n",
       "...              ...    ...  \n",
       "3131          63.650      1  \n",
       "3132          26.295      0  \n",
       "3139          84.270      0  \n",
       "3141          98.650      0  \n",
       "3146         261.210      0  \n",
       "\n",
       "[565 rows x 14 columns]"
      ]
     },
     "execution_count": 280,
     "metadata": {},
     "output_type": "execute_result"
    }
   ],
   "source": [
    "aged_people = df[df['Age'] > 35]\n",
    "aged_people"
   ]
  },
  {
   "cell_type": "markdown",
   "id": "50f911c0-9326-477a-a9a2-9693c70bbe15",
   "metadata": {},
   "source": [
    "## 6. Adding and Removing Columns\n",
    "\n",
    "pandas lets you create new columns (from calculations) or remove columns you don’t need.\n",
    "\n",
    "**Uses**  \n",
    "To tidy up or add useful metrics to your dataset."
   ]
  },
  {
   "cell_type": "code",
   "execution_count": 283,
   "id": "555e2c87-f881-4be2-b777-f28750881720",
   "metadata": {},
   "outputs": [
    {
     "data": {
      "text/html": [
       "<div>\n",
       "<style scoped>\n",
       "    .dataframe tbody tr th:only-of-type {\n",
       "        vertical-align: middle;\n",
       "    }\n",
       "\n",
       "    .dataframe tbody tr th {\n",
       "        vertical-align: top;\n",
       "    }\n",
       "\n",
       "    .dataframe thead th {\n",
       "        text-align: right;\n",
       "    }\n",
       "</style>\n",
       "<table border=\"1\" class=\"dataframe\">\n",
       "  <thead>\n",
       "    <tr style=\"text-align: right;\">\n",
       "      <th></th>\n",
       "      <th>Call  Failure</th>\n",
       "      <th>Complains</th>\n",
       "      <th>Subscription  Length</th>\n",
       "      <th>Charge  Amount</th>\n",
       "      <th>Seconds of Use</th>\n",
       "      <th>Frequency of use</th>\n",
       "      <th>Frequency of SMS</th>\n",
       "      <th>Distinct Called Numbers</th>\n",
       "      <th>Age Group</th>\n",
       "      <th>Tariff Plan</th>\n",
       "      <th>Status</th>\n",
       "      <th>Age</th>\n",
       "      <th>Customer Value</th>\n",
       "      <th>Churn</th>\n",
       "      <th>new_customer_value</th>\n",
       "    </tr>\n",
       "  </thead>\n",
       "  <tbody>\n",
       "    <tr>\n",
       "      <th>0</th>\n",
       "      <td>8</td>\n",
       "      <td>0</td>\n",
       "      <td>38</td>\n",
       "      <td>0</td>\n",
       "      <td>4370</td>\n",
       "      <td>71</td>\n",
       "      <td>5</td>\n",
       "      <td>17</td>\n",
       "      <td>3</td>\n",
       "      <td>1</td>\n",
       "      <td>1</td>\n",
       "      <td>30</td>\n",
       "      <td>197.640</td>\n",
       "      <td>0</td>\n",
       "      <td>98.8200</td>\n",
       "    </tr>\n",
       "    <tr>\n",
       "      <th>1</th>\n",
       "      <td>0</td>\n",
       "      <td>0</td>\n",
       "      <td>39</td>\n",
       "      <td>0</td>\n",
       "      <td>318</td>\n",
       "      <td>5</td>\n",
       "      <td>7</td>\n",
       "      <td>4</td>\n",
       "      <td>2</td>\n",
       "      <td>1</td>\n",
       "      <td>2</td>\n",
       "      <td>25</td>\n",
       "      <td>46.035</td>\n",
       "      <td>0</td>\n",
       "      <td>23.0175</td>\n",
       "    </tr>\n",
       "    <tr>\n",
       "      <th>2</th>\n",
       "      <td>10</td>\n",
       "      <td>0</td>\n",
       "      <td>37</td>\n",
       "      <td>0</td>\n",
       "      <td>2453</td>\n",
       "      <td>60</td>\n",
       "      <td>359</td>\n",
       "      <td>24</td>\n",
       "      <td>3</td>\n",
       "      <td>1</td>\n",
       "      <td>1</td>\n",
       "      <td>30</td>\n",
       "      <td>1536.520</td>\n",
       "      <td>0</td>\n",
       "      <td>768.2600</td>\n",
       "    </tr>\n",
       "    <tr>\n",
       "      <th>3</th>\n",
       "      <td>10</td>\n",
       "      <td>0</td>\n",
       "      <td>38</td>\n",
       "      <td>0</td>\n",
       "      <td>4198</td>\n",
       "      <td>66</td>\n",
       "      <td>1</td>\n",
       "      <td>35</td>\n",
       "      <td>1</td>\n",
       "      <td>1</td>\n",
       "      <td>1</td>\n",
       "      <td>15</td>\n",
       "      <td>240.020</td>\n",
       "      <td>0</td>\n",
       "      <td>120.0100</td>\n",
       "    </tr>\n",
       "    <tr>\n",
       "      <th>4</th>\n",
       "      <td>3</td>\n",
       "      <td>0</td>\n",
       "      <td>38</td>\n",
       "      <td>0</td>\n",
       "      <td>2393</td>\n",
       "      <td>58</td>\n",
       "      <td>2</td>\n",
       "      <td>33</td>\n",
       "      <td>1</td>\n",
       "      <td>1</td>\n",
       "      <td>1</td>\n",
       "      <td>15</td>\n",
       "      <td>145.805</td>\n",
       "      <td>0</td>\n",
       "      <td>72.9025</td>\n",
       "    </tr>\n",
       "  </tbody>\n",
       "</table>\n",
       "</div>"
      ],
      "text/plain": [
       "   Call  Failure  Complains  Subscription  Length  Charge  Amount  \\\n",
       "0              8          0                    38               0   \n",
       "1              0          0                    39               0   \n",
       "2             10          0                    37               0   \n",
       "3             10          0                    38               0   \n",
       "4              3          0                    38               0   \n",
       "\n",
       "   Seconds of Use  Frequency of use  Frequency of SMS  \\\n",
       "0            4370                71                 5   \n",
       "1             318                 5                 7   \n",
       "2            2453                60               359   \n",
       "3            4198                66                 1   \n",
       "4            2393                58                 2   \n",
       "\n",
       "   Distinct Called Numbers  Age Group  Tariff Plan  Status  Age  \\\n",
       "0                       17          3            1       1   30   \n",
       "1                        4          2            1       2   25   \n",
       "2                       24          3            1       1   30   \n",
       "3                       35          1            1       1   15   \n",
       "4                       33          1            1       1   15   \n",
       "\n",
       "   Customer Value  Churn  new_customer_value  \n",
       "0         197.640      0             98.8200  \n",
       "1          46.035      0             23.0175  \n",
       "2        1536.520      0            768.2600  \n",
       "3         240.020      0            120.0100  \n",
       "4         145.805      0             72.9025  "
      ]
     },
     "execution_count": 283,
     "metadata": {},
     "output_type": "execute_result"
    }
   ],
   "source": [
    "df[\"new_customer_value\"] = df[\"Customer Value\"]/2\n",
    "df.head()"
   ]
  },
  {
   "cell_type": "code",
   "execution_count": 285,
   "id": "4b659c99-be15-4ac4-a0a2-e51e3eb6844a",
   "metadata": {},
   "outputs": [
    {
     "data": {
      "text/html": [
       "<div>\n",
       "<style scoped>\n",
       "    .dataframe tbody tr th:only-of-type {\n",
       "        vertical-align: middle;\n",
       "    }\n",
       "\n",
       "    .dataframe tbody tr th {\n",
       "        vertical-align: top;\n",
       "    }\n",
       "\n",
       "    .dataframe thead th {\n",
       "        text-align: right;\n",
       "    }\n",
       "</style>\n",
       "<table border=\"1\" class=\"dataframe\">\n",
       "  <thead>\n",
       "    <tr style=\"text-align: right;\">\n",
       "      <th></th>\n",
       "      <th>Call  Failure</th>\n",
       "      <th>Complains</th>\n",
       "      <th>Subscription  Length</th>\n",
       "      <th>Charge  Amount</th>\n",
       "      <th>Seconds of Use</th>\n",
       "      <th>Frequency of use</th>\n",
       "      <th>Frequency of SMS</th>\n",
       "      <th>Distinct Called Numbers</th>\n",
       "      <th>Age Group</th>\n",
       "      <th>Tariff Plan</th>\n",
       "      <th>Status</th>\n",
       "      <th>Age</th>\n",
       "      <th>Customer Value</th>\n",
       "      <th>Churn</th>\n",
       "    </tr>\n",
       "  </thead>\n",
       "  <tbody>\n",
       "    <tr>\n",
       "      <th>0</th>\n",
       "      <td>8</td>\n",
       "      <td>0</td>\n",
       "      <td>38</td>\n",
       "      <td>0</td>\n",
       "      <td>4370</td>\n",
       "      <td>71</td>\n",
       "      <td>5</td>\n",
       "      <td>17</td>\n",
       "      <td>3</td>\n",
       "      <td>1</td>\n",
       "      <td>1</td>\n",
       "      <td>30</td>\n",
       "      <td>197.640</td>\n",
       "      <td>0</td>\n",
       "    </tr>\n",
       "    <tr>\n",
       "      <th>1</th>\n",
       "      <td>0</td>\n",
       "      <td>0</td>\n",
       "      <td>39</td>\n",
       "      <td>0</td>\n",
       "      <td>318</td>\n",
       "      <td>5</td>\n",
       "      <td>7</td>\n",
       "      <td>4</td>\n",
       "      <td>2</td>\n",
       "      <td>1</td>\n",
       "      <td>2</td>\n",
       "      <td>25</td>\n",
       "      <td>46.035</td>\n",
       "      <td>0</td>\n",
       "    </tr>\n",
       "    <tr>\n",
       "      <th>2</th>\n",
       "      <td>10</td>\n",
       "      <td>0</td>\n",
       "      <td>37</td>\n",
       "      <td>0</td>\n",
       "      <td>2453</td>\n",
       "      <td>60</td>\n",
       "      <td>359</td>\n",
       "      <td>24</td>\n",
       "      <td>3</td>\n",
       "      <td>1</td>\n",
       "      <td>1</td>\n",
       "      <td>30</td>\n",
       "      <td>1536.520</td>\n",
       "      <td>0</td>\n",
       "    </tr>\n",
       "    <tr>\n",
       "      <th>3</th>\n",
       "      <td>10</td>\n",
       "      <td>0</td>\n",
       "      <td>38</td>\n",
       "      <td>0</td>\n",
       "      <td>4198</td>\n",
       "      <td>66</td>\n",
       "      <td>1</td>\n",
       "      <td>35</td>\n",
       "      <td>1</td>\n",
       "      <td>1</td>\n",
       "      <td>1</td>\n",
       "      <td>15</td>\n",
       "      <td>240.020</td>\n",
       "      <td>0</td>\n",
       "    </tr>\n",
       "    <tr>\n",
       "      <th>4</th>\n",
       "      <td>3</td>\n",
       "      <td>0</td>\n",
       "      <td>38</td>\n",
       "      <td>0</td>\n",
       "      <td>2393</td>\n",
       "      <td>58</td>\n",
       "      <td>2</td>\n",
       "      <td>33</td>\n",
       "      <td>1</td>\n",
       "      <td>1</td>\n",
       "      <td>1</td>\n",
       "      <td>15</td>\n",
       "      <td>145.805</td>\n",
       "      <td>0</td>\n",
       "    </tr>\n",
       "  </tbody>\n",
       "</table>\n",
       "</div>"
      ],
      "text/plain": [
       "   Call  Failure  Complains  Subscription  Length  Charge  Amount  \\\n",
       "0              8          0                    38               0   \n",
       "1              0          0                    39               0   \n",
       "2             10          0                    37               0   \n",
       "3             10          0                    38               0   \n",
       "4              3          0                    38               0   \n",
       "\n",
       "   Seconds of Use  Frequency of use  Frequency of SMS  \\\n",
       "0            4370                71                 5   \n",
       "1             318                 5                 7   \n",
       "2            2453                60               359   \n",
       "3            4198                66                 1   \n",
       "4            2393                58                 2   \n",
       "\n",
       "   Distinct Called Numbers  Age Group  Tariff Plan  Status  Age  \\\n",
       "0                       17          3            1       1   30   \n",
       "1                        4          2            1       2   25   \n",
       "2                       24          3            1       1   30   \n",
       "3                       35          1            1       1   15   \n",
       "4                       33          1            1       1   15   \n",
       "\n",
       "   Customer Value  Churn  \n",
       "0         197.640      0  \n",
       "1          46.035      0  \n",
       "2        1536.520      0  \n",
       "3         240.020      0  \n",
       "4         145.805      0  "
      ]
     },
     "execution_count": 285,
     "metadata": {},
     "output_type": "execute_result"
    }
   ],
   "source": [
    "del df[\"new_customer_value\"]\n",
    "df.head()"
   ]
  },
  {
   "cell_type": "markdown",
   "id": "3f54a928-78d8-4e45-8b24-48ec471dbfc5",
   "metadata": {},
   "source": [
    "## 7. Handling Missing Data\n",
    "\n",
    "Real data often has missing values. pandas can find and fill (or drop) these empty spots easily.\n",
    "\n",
    "**Uses**  \n",
    "To clean data for analysis or machine learning."
   ]
  },
  {
   "cell_type": "code",
   "execution_count": 288,
   "id": "0216bcb3-cd81-43ce-bb86-f10d8234aa4c",
   "metadata": {},
   "outputs": [
    {
     "name": "stdout",
     "output_type": "stream",
     "text": [
      "     A    B\n",
      "0  1.0  4.0\n",
      "1  0.0  5.0\n",
      "2  3.0  0.0\n",
      "     A    B\n",
      "0  1.0  4.0\n"
     ]
    }
   ],
   "source": [
    "df_with_nan = pd.DataFrame({'A': [1, None, 3], 'B': [4, 5, None]})\n",
    "print(df_with_nan.fillna(0)) \n",
    "print(df_with_nan.dropna())   "
   ]
  },
  {
   "cell_type": "markdown",
   "id": "1eed8847-dcb5-4867-aea2-cf8b208943df",
   "metadata": {},
   "source": [
    "## 8. Grouping and Aggregation\n",
    "\n",
    "Grouping clusters your data by some value (like city or month), letting you calculate summaries for each group.\n",
    "\n",
    "**Uses**  \n",
    "To summarize, compare, or analyze trends by category."
   ]
  },
  {
   "cell_type": "code",
   "execution_count": 291,
   "id": "92680d90-00ea-4e0f-b039-e564237edd18",
   "metadata": {},
   "outputs": [
    {
     "name": "stdout",
     "output_type": "stream",
     "text": [
      "Team\n",
      "A    40\n",
      "B    20\n",
      "Name: Points, dtype: int64\n"
     ]
    }
   ],
   "source": [
    "scores = pd.DataFrame({'Team': ['A', 'B', 'A'], 'Points': [10, 20, 30]})\n",
    "team_totals = scores.groupby('Team')['Points'].sum()\n",
    "print(team_totals)"
   ]
  },
  {
   "cell_type": "markdown",
   "id": "7109d359-b684-480f-8dd8-36431fb3793f",
   "metadata": {},
   "source": [
    "## 9. Sorting Data\n",
    "\n",
    "pandas can arrange your table by values in any column, alphabetically or by size.\n",
    "\n",
    "**Uses**  \n",
    "To see the biggest, smallest, or otherwise organize your dataset."
   ]
  },
  {
   "cell_type": "code",
   "execution_count": 294,
   "id": "1767d18e-27cf-4ce2-8a61-32175aefe472",
   "metadata": {},
   "outputs": [
    {
     "data": {
      "text/html": [
       "<div>\n",
       "<style scoped>\n",
       "    .dataframe tbody tr th:only-of-type {\n",
       "        vertical-align: middle;\n",
       "    }\n",
       "\n",
       "    .dataframe tbody tr th {\n",
       "        vertical-align: top;\n",
       "    }\n",
       "\n",
       "    .dataframe thead th {\n",
       "        text-align: right;\n",
       "    }\n",
       "</style>\n",
       "<table border=\"1\" class=\"dataframe\">\n",
       "  <thead>\n",
       "    <tr style=\"text-align: right;\">\n",
       "      <th></th>\n",
       "      <th>Call  Failure</th>\n",
       "      <th>Complains</th>\n",
       "      <th>Subscription  Length</th>\n",
       "      <th>Charge  Amount</th>\n",
       "      <th>Seconds of Use</th>\n",
       "      <th>Frequency of use</th>\n",
       "      <th>Frequency of SMS</th>\n",
       "      <th>Distinct Called Numbers</th>\n",
       "      <th>Age Group</th>\n",
       "      <th>Tariff Plan</th>\n",
       "      <th>Status</th>\n",
       "      <th>Age</th>\n",
       "      <th>Customer Value</th>\n",
       "      <th>Churn</th>\n",
       "    </tr>\n",
       "  </thead>\n",
       "  <tbody>\n",
       "    <tr>\n",
       "      <th>2983</th>\n",
       "      <td>36</td>\n",
       "      <td>0</td>\n",
       "      <td>34</td>\n",
       "      <td>5</td>\n",
       "      <td>17090</td>\n",
       "      <td>255</td>\n",
       "      <td>15</td>\n",
       "      <td>82</td>\n",
       "      <td>2</td>\n",
       "      <td>2</td>\n",
       "      <td>1</td>\n",
       "      <td>25</td>\n",
       "      <td>848.025</td>\n",
       "      <td>0</td>\n",
       "    </tr>\n",
       "    <tr>\n",
       "      <th>2583</th>\n",
       "      <td>34</td>\n",
       "      <td>0</td>\n",
       "      <td>33</td>\n",
       "      <td>6</td>\n",
       "      <td>16980</td>\n",
       "      <td>254</td>\n",
       "      <td>28</td>\n",
       "      <td>97</td>\n",
       "      <td>2</td>\n",
       "      <td>2</td>\n",
       "      <td>1</td>\n",
       "      <td>25</td>\n",
       "      <td>901.530</td>\n",
       "      <td>0</td>\n",
       "    </tr>\n",
       "    <tr>\n",
       "      <th>883</th>\n",
       "      <td>31</td>\n",
       "      <td>1</td>\n",
       "      <td>32</td>\n",
       "      <td>4</td>\n",
       "      <td>16785</td>\n",
       "      <td>249</td>\n",
       "      <td>8</td>\n",
       "      <td>80</td>\n",
       "      <td>2</td>\n",
       "      <td>1</td>\n",
       "      <td>1</td>\n",
       "      <td>25</td>\n",
       "      <td>802.530</td>\n",
       "      <td>0</td>\n",
       "    </tr>\n",
       "    <tr>\n",
       "      <th>483</th>\n",
       "      <td>29</td>\n",
       "      <td>0</td>\n",
       "      <td>31</td>\n",
       "      <td>5</td>\n",
       "      <td>16675</td>\n",
       "      <td>248</td>\n",
       "      <td>21</td>\n",
       "      <td>95</td>\n",
       "      <td>2</td>\n",
       "      <td>1</td>\n",
       "      <td>1</td>\n",
       "      <td>25</td>\n",
       "      <td>856.035</td>\n",
       "      <td>0</td>\n",
       "    </tr>\n",
       "    <tr>\n",
       "      <th>2383</th>\n",
       "      <td>35</td>\n",
       "      <td>0</td>\n",
       "      <td>39</td>\n",
       "      <td>5</td>\n",
       "      <td>16640</td>\n",
       "      <td>254</td>\n",
       "      <td>22</td>\n",
       "      <td>88</td>\n",
       "      <td>2</td>\n",
       "      <td>2</td>\n",
       "      <td>1</td>\n",
       "      <td>25</td>\n",
       "      <td>859.230</td>\n",
       "      <td>0</td>\n",
       "    </tr>\n",
       "  </tbody>\n",
       "</table>\n",
       "</div>"
      ],
      "text/plain": [
       "      Call  Failure  Complains  Subscription  Length  Charge  Amount  \\\n",
       "2983             36          0                    34               5   \n",
       "2583             34          0                    33               6   \n",
       "883              31          1                    32               4   \n",
       "483              29          0                    31               5   \n",
       "2383             35          0                    39               5   \n",
       "\n",
       "      Seconds of Use  Frequency of use  Frequency of SMS  \\\n",
       "2983           17090               255                15   \n",
       "2583           16980               254                28   \n",
       "883            16785               249                 8   \n",
       "483            16675               248                21   \n",
       "2383           16640               254                22   \n",
       "\n",
       "      Distinct Called Numbers  Age Group  Tariff Plan  Status  Age  \\\n",
       "2983                       82          2            2       1   25   \n",
       "2583                       97          2            2       1   25   \n",
       "883                        80          2            1       1   25   \n",
       "483                        95          2            1       1   25   \n",
       "2383                       88          2            2       1   25   \n",
       "\n",
       "      Customer Value  Churn  \n",
       "2983         848.025      0  \n",
       "2583         901.530      0  \n",
       "883          802.530      0  \n",
       "483          856.035      0  \n",
       "2383         859.230      0  "
      ]
     },
     "execution_count": 294,
     "metadata": {},
     "output_type": "execute_result"
    }
   ],
   "source": [
    "df_sorted = df.sort_values('Seconds of Use', ascending=False)\n",
    "df_sorted.head()"
   ]
  },
  {
   "cell_type": "markdown",
   "id": "1ce0780f-e44f-47df-a569-1b1b123a6632",
   "metadata": {},
   "source": [
    "## 10. Merging and Joining DataFrames\n",
    "\n",
    "You can combine two tables using a common column—just like matching student names to their grades.\n",
    "\n",
    "**Uses**  \n",
    "To combine more information from different sources, build larger analysis, or bring together related datasets."
   ]
  },
  {
   "cell_type": "code",
   "execution_count": 297,
   "id": "caf81758-f91d-440e-b972-d72fcf17da8b",
   "metadata": {},
   "outputs": [
    {
     "name": "stdout",
     "output_type": "stream",
     "text": [
      "   ID  Name  Score\n",
      "0   1  Anna     95\n",
      "1   2   Bob     88\n"
     ]
    }
   ],
   "source": [
    "data1 = pd.DataFrame({'ID': [1,2], 'Name': ['Anna', 'Bob']})\n",
    "data2 = pd.DataFrame({'ID': [1,2], 'Score': [95, 88]})\n",
    "merged = pd.merge(data1, data2, on='ID')\n",
    "print(merged)"
   ]
  },
  {
   "cell_type": "markdown",
   "id": "9ab5c1db-756c-4b9c-8c8b-639b046f8cab",
   "metadata": {},
   "source": [
    "## 11. Applying Functions\n",
    "\n",
    "pandas allows you to apply a function to every item or row in a column, making quick transformations or calculations.\n",
    "\n",
    "**Uses**  \n",
    "To process data flexibly, like formatting names or doing calculations."
   ]
  },
  {
   "cell_type": "code",
   "execution_count": 300,
   "id": "ded227c3-2822-460b-9b12-2eca07cb286e",
   "metadata": {},
   "outputs": [
    {
     "data": {
      "text/html": [
       "<div>\n",
       "<style scoped>\n",
       "    .dataframe tbody tr th:only-of-type {\n",
       "        vertical-align: middle;\n",
       "    }\n",
       "\n",
       "    .dataframe tbody tr th {\n",
       "        vertical-align: top;\n",
       "    }\n",
       "\n",
       "    .dataframe thead th {\n",
       "        text-align: right;\n",
       "    }\n",
       "</style>\n",
       "<table border=\"1\" class=\"dataframe\">\n",
       "  <thead>\n",
       "    <tr style=\"text-align: right;\">\n",
       "      <th></th>\n",
       "      <th>Call  Failure</th>\n",
       "      <th>Complains</th>\n",
       "      <th>Subscription  Length</th>\n",
       "      <th>Charge  Amount</th>\n",
       "      <th>Seconds of Use</th>\n",
       "      <th>Frequency of use</th>\n",
       "      <th>Frequency of SMS</th>\n",
       "      <th>Distinct Called Numbers</th>\n",
       "      <th>Age Group</th>\n",
       "      <th>Tariff Plan</th>\n",
       "      <th>Status</th>\n",
       "      <th>Age</th>\n",
       "      <th>Customer Value</th>\n",
       "      <th>Churn</th>\n",
       "    </tr>\n",
       "  </thead>\n",
       "  <tbody>\n",
       "    <tr>\n",
       "      <th>0</th>\n",
       "      <td>8</td>\n",
       "      <td>0</td>\n",
       "      <td>38</td>\n",
       "      <td>0</td>\n",
       "      <td>0.004370</td>\n",
       "      <td>71</td>\n",
       "      <td>5</td>\n",
       "      <td>17</td>\n",
       "      <td>3</td>\n",
       "      <td>1</td>\n",
       "      <td>1</td>\n",
       "      <td>30</td>\n",
       "      <td>197.640</td>\n",
       "      <td>0</td>\n",
       "    </tr>\n",
       "    <tr>\n",
       "      <th>1</th>\n",
       "      <td>0</td>\n",
       "      <td>0</td>\n",
       "      <td>39</td>\n",
       "      <td>0</td>\n",
       "      <td>0.000318</td>\n",
       "      <td>5</td>\n",
       "      <td>7</td>\n",
       "      <td>4</td>\n",
       "      <td>2</td>\n",
       "      <td>1</td>\n",
       "      <td>2</td>\n",
       "      <td>25</td>\n",
       "      <td>46.035</td>\n",
       "      <td>0</td>\n",
       "    </tr>\n",
       "    <tr>\n",
       "      <th>2</th>\n",
       "      <td>10</td>\n",
       "      <td>0</td>\n",
       "      <td>37</td>\n",
       "      <td>0</td>\n",
       "      <td>0.002453</td>\n",
       "      <td>60</td>\n",
       "      <td>359</td>\n",
       "      <td>24</td>\n",
       "      <td>3</td>\n",
       "      <td>1</td>\n",
       "      <td>1</td>\n",
       "      <td>30</td>\n",
       "      <td>1536.520</td>\n",
       "      <td>0</td>\n",
       "    </tr>\n",
       "    <tr>\n",
       "      <th>3</th>\n",
       "      <td>10</td>\n",
       "      <td>0</td>\n",
       "      <td>38</td>\n",
       "      <td>0</td>\n",
       "      <td>0.004198</td>\n",
       "      <td>66</td>\n",
       "      <td>1</td>\n",
       "      <td>35</td>\n",
       "      <td>1</td>\n",
       "      <td>1</td>\n",
       "      <td>1</td>\n",
       "      <td>15</td>\n",
       "      <td>240.020</td>\n",
       "      <td>0</td>\n",
       "    </tr>\n",
       "    <tr>\n",
       "      <th>4</th>\n",
       "      <td>3</td>\n",
       "      <td>0</td>\n",
       "      <td>38</td>\n",
       "      <td>0</td>\n",
       "      <td>0.002393</td>\n",
       "      <td>58</td>\n",
       "      <td>2</td>\n",
       "      <td>33</td>\n",
       "      <td>1</td>\n",
       "      <td>1</td>\n",
       "      <td>1</td>\n",
       "      <td>15</td>\n",
       "      <td>145.805</td>\n",
       "      <td>0</td>\n",
       "    </tr>\n",
       "  </tbody>\n",
       "</table>\n",
       "</div>"
      ],
      "text/plain": [
       "   Call  Failure  Complains  Subscription  Length  Charge  Amount  \\\n",
       "0              8          0                    38               0   \n",
       "1              0          0                    39               0   \n",
       "2             10          0                    37               0   \n",
       "3             10          0                    38               0   \n",
       "4              3          0                    38               0   \n",
       "\n",
       "   Seconds of Use  Frequency of use  Frequency of SMS  \\\n",
       "0        0.004370                71                 5   \n",
       "1        0.000318                 5                 7   \n",
       "2        0.002453                60               359   \n",
       "3        0.004198                66                 1   \n",
       "4        0.002393                58                 2   \n",
       "\n",
       "   Distinct Called Numbers  Age Group  Tariff Plan  Status  Age  \\\n",
       "0                       17          3            1       1   30   \n",
       "1                        4          2            1       2   25   \n",
       "2                       24          3            1       1   30   \n",
       "3                       35          1            1       1   15   \n",
       "4                       33          1            1       1   15   \n",
       "\n",
       "   Customer Value  Churn  \n",
       "0         197.640      0  \n",
       "1          46.035      0  \n",
       "2        1536.520      0  \n",
       "3         240.020      0  \n",
       "4         145.805      0  "
      ]
     },
     "execution_count": 300,
     "metadata": {},
     "output_type": "execute_result"
    }
   ],
   "source": [
    "df['Seconds of Use'] = df['Seconds of Use'].apply(lambda x: x / 1000000)\n",
    "df.head()"
   ]
  },
  {
   "cell_type": "markdown",
   "id": "2895102d-9e3f-4995-837c-2d098d116d13",
   "metadata": {},
   "source": [
    "# 📘 Machine Learning Basic Notes\n",
    "\n",
    "---\n",
    "\n",
    "### 1. What is Machine Learning?\n",
    "Machine Learning is a field of artificial intelligence that enables computers to learn patterns from data and make predictions or decisions without being explicitly programmed for each task.  \n",
    "It focuses on building models that improve performance with experience, using algorithms that detect structure in data and generalize to unseen inputs.\n",
    "\n",
    "---\n",
    "\n",
    "### 2. Types of Machine Learning\n",
    "- **Supervised Learning** learns from labeled data to predict outputs for new inputs.  \n",
    "- **Unsupervised Learning** finds patterns or structure in unlabeled data, such as clustering or dimensionality reduction.  \n",
    "- **Semi-supervised Learning** uses a mix of a small amount of labeled data and a large amount of unlabeled data to improve learning.  \n",
    "- **Self-supervised Learning** creates pseudo-labels from the data itself to pretrain models.  \n",
    "- **Reinforcement Learning** trains an agent to make sequential decisions by maximizing cumulative reward through interaction with an environment.\n",
    "\n",
    "---\n",
    "\n",
    "### 3. Supervised Learning: Regression vs Classification\n",
    "- **Regression** predicts continuous numerical values, such as prices or temperatures, by modeling relationships between features and targets.  \n",
    "- **Classification** predicts discrete categories or labels, such as spam vs not spam or disease presence vs absence, by learning decision boundaries separating classes.\n",
    "\n",
    "---\n",
    "\n",
    "### 4. Unsupervised Learning: Clustering and Dimensionality Reduction\n",
    "- **Clustering** groups similar data points into clusters based on distance or similarity metrics, revealing hidden structure.  \n",
    "- **Dimensionality Reduction** compresses high-dimensional data into fewer dimensions while preserving important information, improving efficiency, visualization, and model performance.\n",
    "\n",
    "---\n",
    "\n",
    "### 5. Feature Engineering\n",
    "Feature Engineering is the process of transforming raw data into informative inputs for models.  \n",
    "It includes handling missing values, encoding categorical variables, scaling numeric features, creating new features from domain knowledge, reducing dimensionality, and selecting relevant features to improve accuracy and generalization.\n",
    "\n",
    "---\n",
    "\n",
    "### 6. Train / Validation / Test Split\n",
    "The dataset is split into:\n",
    "- **Training data** for fitting the model  \n",
    "- **Validation data** for tuning hyperparameters and preventing overfitting  \n",
    "- **Test data** for unbiased evaluation  \n",
    "\n",
    "Proper splitting ensures that performance metrics reflect real-world generalization and not memorization.\n",
    "\n",
    "---\n",
    "\n",
    "### 7. Overfitting and Underfitting\n",
    "- **Overfitting** occurs when a model learns noise or details specific to the training data and performs poorly on new data.  \n",
    "- **Underfitting** occurs when a model is too simple to capture the underlying patterns and performs poorly on both training and test data.  \n",
    "- The goal is to achieve a **balance** that generalizes well.\n",
    "\n",
    "---\n",
    "\n",
    "### 8. Bias-Variance Tradeoff\n",
    "- **Bias** measures error due to overly simplistic assumptions that miss true patterns.  \n",
    "- **Variance** measures error due to sensitivity to fluctuations in the training data.  \n",
    "Reducing bias often increases variance and vice versa.  \n",
    "Effective modeling balances both to minimize total error and maximize generalization.\n",
    "\n",
    "---\n",
    "\n",
    "### 9. Evaluation Metrics for Regression\n",
    "- **Mean Absolute Error (MAE)** → average absolute deviation  \n",
    "- **Mean Squared Error (MSE)** → squared deviations  \n",
    "- **Root Mean Squared Error (RMSE)** → square root of MSE, interpretable in original units  \n",
    "- **R-squared (R²)** → proportion of variance explained by the model  \n",
    "\n",
    "---\n",
    "\n",
    "### 10. Evaluation Metrics for Classification\n",
    "- **Accuracy** → overall correctness  \n",
    "- **Precision** → correctness among predicted positives  \n",
    "- **Recall** → coverage of actual positives  \n",
    "- **F1-score** → harmonic mean of precision and recall  \n",
    "- **ROC-AUC** → ranking quality across thresholds  \n",
    "- **Confusion Matrix** → summarizes prediction outcomes  \n",
    "\n",
    "---\n",
    "\n",
    "### 11. Cross-Validation\n",
    "Cross-Validation is a resampling strategy that splits data into multiple folds, training on subsets and validating on the remaining fold iteratively.  \n",
    "- Produces more reliable estimates of model performance  \n",
    "- Reduces variance due to a single split  \n",
    "- Aids in model selection and hyperparameter tuning  \n",
    "\n",
    "---\n",
    "\n",
    "### 12. Data Preprocessing\n",
    "Data Preprocessing prepares raw data for modeling by:\n",
    "- Fixing inconsistent formats  \n",
    "- Handling missing values  \n",
    "- Scaling or normalizing features  \n",
    "- Encoding categorical variables  \n",
    "- Detecting outliers  \n",
    "- Ensuring consistent schemas  \n",
    "\n",
    "Good preprocessing improves model stability, speed, and predictive quality.\n",
    "\n",
    "---\n",
    "\n",
    "### 13. Scaling and Normalization\n",
    "- **Scaling** transforms numeric features to a common range or distribution to stabilize optimization and distance-based computations.  \n",
    "- **Standardization** → zero mean and unit variance  \n",
    "- **Min-Max Scaling** → maps values to a fixed range  \n",
    "- **Normalization** → scaling individual samples to unit norm  \n",
    "\n",
    "---\n",
    "\n",
    "### 14. Encoding Categorical Variables\n",
    "- **One-Hot Encoding** → binary columns per category  \n",
    "- **Ordinal Encoding** → maps ordered categories to integer ranks  \n",
    "- **Target/Mean Encoding** → uses aggregated target statistics (requires careful leakage prevention)  \n",
    "\n",
    "---\n",
    "\n",
    "### 15. Handling Missing Data\n",
    "- **Deletion** → when safe  \n",
    "- **Simple Imputation** → constants, mean, median, mode  \n",
    "- **Advanced Imputation** → model-based or iterative methods  \n",
    "\n",
    "Proper handling prevents biased learning, preserves information, and maintains dataset integrity.\n",
    "\n",
    "---\n",
    "\n",
    "### 16. Outlier Detection\n",
    "Outliers are unusual observations that deviate significantly from the majority of data.  \n",
    "Detection methods include:\n",
    "- Statistical thresholds  \n",
    "- Robust distance metrics  \n",
    "- Clustering-based detection  \n",
    "- Isolation-based methods  \n",
    "\n",
    "---\n",
    "\n",
    "### 17. Model Selection\n",
    "Model Selection compares candidate algorithms/configurations using validation procedures.  \n",
    "Considers:\n",
    "- Predictive accuracy  \n",
    "- Interpretability  \n",
    "- Computational efficiency  \n",
    "- Data size  \n",
    "- Deployment constraints  \n",
    "\n",
    "---\n",
    "\n",
    "### 18. Hyperparameters and Hyperparameter Tuning\n",
    "- **Hyperparameters** control model behavior and learning process but are not learned directly from data.  \n",
    "- **Tuning methods**:\n",
    "  - Grid Search  \n",
    "  - Random Search  \n",
    "  - Bayesian Optimization  \n",
    "\n",
    "---\n",
    "\n",
    "### 19. Regularization\n",
    "Adds constraints or penalties to model parameters to prevent overfitting.  \n",
    "- **L1 Regularization** → sparsity  \n",
    "- **L2 Regularization** → discourages large weights  \n",
    "- **Elastic Net** → combination of L1 + L2  \n",
    "- **Neural Networks** → dropout, early stopping  \n",
    "\n",
    "---\n",
    "\n",
    "### 20. Linear Regression\n",
    "- Models a linear relationship between features and a continuous target by minimizing a loss function.  \n",
    "- Provides interpretable coefficients.  \n",
    "- May require scaling and regularization in high-dimensional settings.  \n",
    "\n",
    "---\n",
    "\n",
    "### 21. Logistic Regression\n",
    "- Classification algorithm that models the probability of a class using a logistic function.  \n",
    "- Outputs probabilities and decision thresholds.  \n",
    "- Supports regularization, robust and interpretable.  \n",
    "\n",
    "---\n",
    "\n",
    "### 22. k-Nearest Neighbors (KNN)\n",
    "- Nonparametric method that classifies/regresses based on nearest neighbors.  \n",
    "- Relies on distance metrics, benefits from scaling.  \n",
    "- Captures complex boundaries but computationally expensive at prediction.  \n",
    "\n",
    "---\n",
    "\n",
    "### 23. Decision Trees\n",
    "- Splits feature space into regions using simple decision rules.  \n",
    "- Handles nonlinear relationships, mixed data types.  \n",
    "- Interpretable, minimal preprocessing.  \n",
    "- Risk of overfitting without pruning/constraints.  \n",
    "\n",
    "---\n",
    "\n",
    "### 24. Random Forests\n",
    "- Ensembles of decision trees trained on bootstrapped samples + random feature subsets.  \n",
    "- Improves generalization by averaging predictions.  \n",
    "- Reduces variance, provides feature importance.  \n",
    "\n",
    "---\n",
    "\n",
    "### 25. Gradient Boosting\n",
    "- Sequentially builds weak learners, each correcting previous errors.  \n",
    "- Optimizes a loss function.  \n",
    "- Achieves high accuracy with proper regularization, learning rate control, and early stopping.  \n",
    "\n",
    "---\n",
    "\n",
    "### 26. XGBoost, LightGBM, and CatBoost\n",
    "- Optimized gradient boosting frameworks.  \n",
    "- Efficient training, advanced regularization.  \n",
    "- Handle categorical features, parallelization, monotonic constraints.  \n",
    "- Often yield state-of-the-art results.  \n",
    "\n",
    "---\n",
    "\n",
    "### 27. Support Vector Machines (SVM)\n",
    "- Finds decision boundary with maximum margin between classes.  \n",
    "- Uses kernels for nonlinear problems.  \n",
    "- Effective in high-dimensional spaces, requires scaling.  \n",
    "- Sensitive to hyperparameters/kernel choice.  \n",
    "\n",
    "---\n",
    "\n",
    "### 28. Naive Bayes\n",
    "- Probabilistic classifier (Bayes’ theorem, independence assumption).  \n",
    "- Simple, fast, effective for text classification.  \n",
    "- Assumption limits accuracy when features are correlated.  \n",
    "\n",
    "---\n",
    "\n",
    "### 29. Neural Networks and Deep Learning\n",
    "- Layered function approximators that learn complex patterns.  \n",
    "- Deep Learning → multiple layers capturing hierarchical representations.  \n",
    "- Enabled breakthroughs in vision, NLP, speech.  \n",
    "\n",
    "---\n",
    "\n",
    "### 30. Activation Functions\n",
    "Introduce nonlinearity into neural networks:\n",
    "- **ReLU** → efficient, sparse activation  \n",
    "- **Sigmoid** → bounded outputs  \n",
    "- **Tanh** → centered outputs  \n",
    "\n",
    "Choice affects gradient flow and learning.\n",
    "\n",
    "---\n",
    "\n",
    "### 31. Loss Functions\n",
    "- **Regression** → Mean Squared Error, Mean Absolute Error  \n",
    "- **Classification** → Cross-entropy  \n",
    "- **Margin-based** → Hinge loss  \n",
    "\n",
    "Proper choice aligns training with evaluation goals.\n",
    "\n",
    "---\n",
    "\n",
    "### 32. Optimization and Gradient Descent\n",
    "Optimization algorithms adjust model parameters to minimize loss.  \n",
    "- **Gradient Descent** iteratively updates parameters.  \n",
    "- Variants:\n",
    "  - Stochastic Gradient Descent (SGD)  \n",
    "  - Mini-batch GD  \n",
    "  - Momentum  \n",
    "  - RMSProp  \n",
    "  - Adam  \n",
    "\n",
    "---\n",
    "\n",
    "### 33. Regularization in Neural Networks\n",
    "Techniques include:\n",
    "- **L2 Weight Decay**  \n",
    "- **Dropout** → randomly deactivate units  \n",
    "- **Batch Normalization**  \n",
    "- **Data Augmentation**  \n",
    "- **Early Stopping**  \n",
    "\n",
    "---\n",
    "\n",
    "### 34. Model Interpretability\n",
    "Provides insight into how models make predictions.  \n",
    "Techniques:\n",
    "- Feature importance  \n",
    "- Partial dependence plots  \n",
    "- SHAP values  \n",
    "- LIME  \n",
    "\n",
    "Interpretability supports trust, debugging, compliance, and responsible deployment.\n",
    "\n",
    "---\n",
    "\n",
    "### 35. Imbalanced Data Handling\n",
    "- Occurs when classes are unequally represented.  \n",
    "- Strategies:\n",
    "  - Resampling  \n",
    "  - Synthetic data generation (SMOTE)  \n",
    "  - Class weighting  \n",
    "  - Threshold tuning  \n",
    "- Metrics: Recall, F1, AUC-PR (better than accuracy).  \n",
    "\n",
    "---\n"
   ]
  },
  {
   "cell_type": "code",
   "execution_count": null,
   "id": "579e12cf-7580-4134-b806-11fd5b67c200",
   "metadata": {},
   "outputs": [],
   "source": []
  }
 ],
 "metadata": {
  "kernelspec": {
   "display_name": "Python [conda env:base] *",
   "language": "python",
   "name": "conda-base-py"
  },
  "language_info": {
   "codemirror_mode": {
    "name": "ipython",
    "version": 3
   },
   "file_extension": ".py",
   "mimetype": "text/x-python",
   "name": "python",
   "nbconvert_exporter": "python",
   "pygments_lexer": "ipython3",
   "version": "3.12.7"
  }
 },
 "nbformat": 4,
 "nbformat_minor": 5
}
